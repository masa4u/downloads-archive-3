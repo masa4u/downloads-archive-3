{
 "cells": [
  {
   "cell_type": "markdown",
   "metadata": {},
   "source": [
    "# Introduction to Quantitative Finance\n",
    "\n",
    "Copyright (c) 2019 Python Charmers Pty Ltd, Australia, <https://pythoncharmers.com>. All rights reserved.\n",
    "\n",
    "<img src=\"img/python_charmers_logo.png\" width=\"300\" alt=\"Python Charmers Logo\">\n",
    "\n",
    "Published under the Creative Commons Attribution-NonCommercial 4.0 International (CC BY-NC 4.0) license. See `LICENSE.md` for details.\n",
    "\n",
    "Sponsored by Tibra Global Services, <https://tibra.com>\n",
    "\n",
    "<img src=\"img/tibra_logo.png\" width=\"300\" alt=\"Tibra Logo\">\n",
    "\n",
    "\n",
    "## Module 1.6: Time Series\n",
    "\n",
    "### 1.6.3 White Noise\n",
    "\n",
    "In short, a time series is white noise if it is random and unpredictable.\n",
    "\n",
    "As with most mathematical terms, it is more formally defined. A time series $X$ is white noise if it:\n",
    "\n",
    "* has a mean of zero, that is $E[X] = 0$\n",
    "* the variance is constant over time\n",
    "* There is no correlation within the data at different lag periods: $E[X_t X_{t-k}] = 0$ when $k \\neq 0$\n",
    "\n",
    "To test formally if \"variance is constant over time\":\n",
    "\n",
    "Let $\\gamma_k = E[(X_t - \\mu)(X_{t-k} - \\mu)]$\n",
    "\n",
    "$\\rho_k = \\frac{\\gamma_k}{\\gamma_0}$\n",
    "\n",
    "The data is stationary if $\\rho_k \\rightarrow 0$ as $k \\rightarrow \\infty$, and it is white noise if also     $\\frac{\\rho_k}{m} \\sim N(0, 1)$, where $m= \\sqrt{\\frac{1}{n}}$\n",
    "\n",
    "Additionally the term *independent white noise* is also used when the variables in multivariable model are independent and have no correlation. Note that some require this as part of the test for \"white noise\" itself, but it is normally considered a stronger assumption than normally for \"white noise\".\n",
    "\n",
    "Let's have a look at the most random of data series, and what type of statistics we can glean to see if it is white noise:"
   ]
  },
  {
   "cell_type": "code",
   "execution_count": 1,
   "metadata": {},
   "outputs": [],
   "source": [
    "%run setup.ipy"
   ]
  },
  {
   "cell_type": "code",
   "execution_count": 2,
   "metadata": {},
   "outputs": [],
   "source": [
    "from scipy.stats import norm\n",
    "\n",
    "distribution = norm(0, 1)"
   ]
  },
  {
   "cell_type": "code",
   "execution_count": 3,
   "metadata": {},
   "outputs": [],
   "source": [
    "np.random.seed(1000)  # For consistent results. Remove this line to get random results\n",
    "X = distribution.rvs(1000)  # Random data, between 0 and 1, then with 0.5 subtracted\n",
    "# Note we are considering this as a \"time series\" data, so X[1] happens after X[0]"
   ]
  },
  {
   "cell_type": "code",
   "execution_count": 4,
   "metadata": {},
   "outputs": [
    {
     "data": {
      "text/plain": [
       "[<matplotlib.lines.Line2D at 0x7f37e489dbe0>]"
      ]
     },
     "execution_count": 4,
     "metadata": {},
     "output_type": "execute_result"
    },
    {
     "data": {
      "image/png": "[encoded data removed]",
      "text/plain": [
       "<Figure size 432x288 with 1 Axes>"
      ]
     },
     "metadata": {
      "needs_background": "light"
     },
     "output_type": "display_data"
    }
   ],
   "source": [
    "plt.plot(X[:100], 'bo')"
   ]
  },
  {
   "cell_type": "code",
   "execution_count": 5,
   "metadata": {},
   "outputs": [
    {
     "data": {
      "text/plain": [
       "-0.010453386154354722"
      ]
     },
     "execution_count": 5,
     "metadata": {},
     "output_type": "execute_result"
    }
   ],
   "source": [
    "np.mean(X)  # Expected value is about 0. Your values may differ - try a larger sample size!"
   ]
  },
  {
   "cell_type": "code",
   "execution_count": 6,
   "metadata": {},
   "outputs": [],
   "source": [
    "import statsmodels.stats.api as sms"
   ]
  },
  {
   "cell_type": "code",
   "execution_count": 7,
   "metadata": {},
   "outputs": [],
   "source": [
    "results = sms.DescrStatsW(X)"
   ]
  },
  {
   "cell_type": "code",
   "execution_count": 9,
   "metadata": {},
   "outputs": [
    {
     "data": {
      "text/plain": [
       "(-0.07250947556407167, 0.051602703255362176)"
      ]
     },
     "execution_count": 9,
     "metadata": {},
     "output_type": "execute_result"
    }
   ],
   "source": [
    "results.tconfint_mean(0.05)"
   ]
  },
  {
   "cell_type": "markdown",
   "metadata": {},
   "source": [
    "Here, 0.0 does sit within the percentage bounds, so we cannot reject the hypothesis that the data has a non-zero mean."
   ]
  },
  {
   "cell_type": "markdown",
   "metadata": {},
   "source": [
    "Another way to compute this is by taking many samples of the data, computing the mean of each sample, and obtaining the bounds by finding the relevant confidence intervals.\n",
    "\n",
    "Specifically, we need to take a bootstrap sample, which for a dataset of size $n$ is a sample of size $n$ with replacement."
   ]
  },
  {
   "cell_type": "code",
   "execution_count": 11,
   "metadata": {},
   "outputs": [],
   "source": [
    "bootstrap_sample = np.random.choice(X, size=len(X), replace=True)"
   ]
  },
  {
   "cell_type": "markdown",
   "metadata": {},
   "source": [
    "We do this many times (for a large number for \"many\", say 100,000) and compute our statistic of interest for each sample:"
   ]
  },
  {
   "cell_type": "code",
   "execution_count": 12,
   "metadata": {},
   "outputs": [],
   "source": [
    "N_ITERATIONS = 100000\n",
    "\n",
    "means = []\n",
    "\n",
    "for i in range(N_ITERATIONS):\n",
    "    bootstrap_sample = np.random.choice(X, size=len(X), replace=True) \n",
    "    means.append(np.mean(bootstrap_sample))"
   ]
  },
  {
   "cell_type": "markdown",
   "metadata": {},
   "source": [
    "We then sort the discovered statistic values, and get the lower and upper bounds, by finding the spot where y% of the values sit within those bounds. For a confidence interval of 95%, we get the 2.5% highest values and the 97.5% highest value for our statistic:"
   ]
  },
  {
   "cell_type": "code",
   "execution_count": 13,
   "metadata": {},
   "outputs": [],
   "source": [
    "lower_index = int(0.025 * N_ITERATIONS)   # Hint: try without the call to int\n",
    "upper_index = int(0.975 * N_ITERATIONS)"
   ]
  },
  {
   "cell_type": "code",
   "execution_count": 14,
   "metadata": {},
   "outputs": [],
   "source": [
    "sorted_means = np.array(sorted(means))\n",
    "lower_bounds = sorted_means[lower_index]\n",
    "upper_bounds = sorted_means[upper_index]"
   ]
  },
  {
   "cell_type": "code",
   "execution_count": 15,
   "metadata": {},
   "outputs": [
    {
     "data": {
      "text/plain": [
       "(-0.07247941994656677, 0.05154881018352684)"
      ]
     },
     "execution_count": 15,
     "metadata": {},
     "output_type": "execute_result"
    }
   ],
   "source": [
    "lower_bounds, upper_bounds"
   ]
  },
  {
   "cell_type": "markdown",
   "metadata": {},
   "source": [
    "Again, as zero is within the bounds, we cannot reject the hypothesis that the actual mean of the data is zero. This would be sufficient to continue with our test for white noise."
   ]
  },
  {
   "cell_type": "markdown",
   "metadata": {},
   "source": [
    "#### Exercise\n",
    "\n",
    "The constant variance tests in `statsmodels` are not well documented and poorly implemented for directly calling them functions. Instead, use the `scipy` methods for computing constant variance, such as using Bartlett’s and Levene's test. That said, in both cases, these functions don't actually give us the value we are looking for. Instead, they tell whether two datasets have the same variance. A way to use this is to test the first half of the data against the second half.\n",
    "\n",
    "Check the documentation for these two methods, and use the more robust of the two to perform the above test. \n",
    "\n",
    "#### Extended Exercise\n",
    "\n",
    "Note that this test will not work for seasonality issues, like a year's worth of data with a higher summer value.\n",
    "To visually inspect this, we plot the results of the residuals (errors) of our fitted model (such as a linear regression), and visually inspect for patterns. If a clear pattern exists, then we do not have a constant variance (constant variance in error is equivalent).\n",
    "\n",
    "The most useful plot for determining this is residuals on the y-axis, and *fitted values* on the x-axis, i.e what your OLS model predicts for a given input. Create this plot for our `X` data, after generating a random `y` predictor variable."
   ]
  },
  {
   "cell_type": "markdown",
   "metadata": {},
   "source": [
    "*For solutions, see `solutions/residual_plotting.py`*"
   ]
  },
  {
   "cell_type": "markdown",
   "metadata": {},
   "source": [
    "### Checking for autocorrelation\n",
    "\n",
    "We can check the autocorrelation using Panda's `autocorrelate` function:"
   ]
  },
  {
   "cell_type": "code",
   "execution_count": 32,
   "metadata": {},
   "outputs": [
    {
     "data": {
      "text/plain": [
       "<matplotlib.axes._subplots.AxesSubplot at 0x7f48d238d470>"
      ]
     },
     "execution_count": 32,
     "metadata": {},
     "output_type": "execute_result"
    },
    {
     "data": {
      "image/png": "[encoded data removed]",
      "text/plain": [
       "<Figure size 432x288 with 1 Axes>"
      ]
     },
     "metadata": {
      "needs_background": "light"
     },
     "output_type": "display_data"
    }
   ],
   "source": [
    "pd.plotting.autocorrelation_plot(X)"
   ]
  },
  {
   "cell_type": "markdown",
   "metadata": {},
   "source": [
    "If no statistically significant values are above the confidence lines, then there is no autocorrelation in the data. Occasionally you will see a value appear outside these bounds - if it isn't over by too much, and doesn't happen regularly, this can be a fluke in the dataset. You can check this by doing the same plot on a bootstrapped sample of X - if it still happens, then investigate further for autocorrelation."
   ]
  },
  {
   "cell_type": "markdown",
   "metadata": {},
   "source": [
    "#### Exercise\n",
    "\n",
    "Create a dataset with one variable that violates each of the three requirements for white noise. Plot the data to visually see the results. and plot the autocorrelation plot."
   ]
  },
  {
   "cell_type": "markdown",
   "metadata": {},
   "source": [
    "*For solutions, see `solutions/white_noise_break.py`*"
   ]
  }
 ],
 "metadata": {
  "kernelspec": {
   "display_name": "Python 3",
   "language": "python",
   "name": "python3"
  },
  "language_info": {
   "codemirror_mode": {
    "name": "ipython",
    "version": 3
   },
   "file_extension": ".py",
   "mimetype": "text/x-python",
   "name": "python",
   "nbconvert_exporter": "python",
   "pygments_lexer": "ipython3",
   "version": "3.7.1"
  }
 },
 "nbformat": 4,
 "nbformat_minor": 2
}
