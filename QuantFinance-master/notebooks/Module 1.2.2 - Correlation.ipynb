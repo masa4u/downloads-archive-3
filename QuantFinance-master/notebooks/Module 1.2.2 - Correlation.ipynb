{
 "cells": [
  {
   "cell_type": "markdown",
   "metadata": {},
   "source": [
    "# Introduction to Quantitative Finance\n",
    "\n",
    "Copyright (c) 2019 Python Charmers Pty Ltd, Australia, <https://pythoncharmers.com>. All rights reserved.\n",
    "\n",
    "<img src=\"img/python_charmers_logo.png\" width=\"300\" alt=\"Python Charmers Logo\">\n",
    "\n",
    "Published under the Creative Commons Attribution-NonCommercial 4.0 International (CC BY-NC 4.0) license. See `LICENSE.md` for details.\n",
    "\n",
    "Sponsored by Tibra Global Services, <https://tibra.com>\n",
    "\n",
    "<img src=\"img/tibra_logo.png\" width=\"300\" alt=\"Tibra Logo\">\n",
    "\n",
    "\n",
    "## Module 1.2: Covariance and Correlation\n",
    "\n",
    "### 1.2.2 Correlation\n",
    "\n",
    "\n",
    "In the last module, we saw the covariance of two variables, defined as\n",
    "\n",
    "$cov(X,Y) = E[(X-E[X])(Y-E[Y])]$\n",
    "\n",
    "Which reduces to the easier-to-compute form as:\n",
    "\n",
    "$cov(X,Y) = E[XY] - E[X]E[Y]$\n",
    "\n",
    "The covariance is a useful metric, but has a dimensionality problem.\n",
    "That is, if we have two random variables $X$ and $Y$, where $X$ is a person's height in cm, and $Y$ is a person's \n",
    "weight in kilograms, the resulting covariance has units of $cmkg$, which is not a unit most people have experience and an intuition about. For example, what does a covariance of 5cmkg mean?\n",
    "\n",
    "To fix this, we can normalise the covariance, and obtain the correlation. This gives a bounded range between -1 and 1, and more represents the degree that two variables move together, independent of the scale of the values.\n",
    "\n",
    "For instance, let's setup two sets of data:"
   ]
  },
  {
   "cell_type": "code",
   "execution_count": 1,
   "metadata": {},
   "outputs": [],
   "source": [
    "%run setup.ipy"
   ]
  },
  {
   "cell_type": "code",
   "execution_count": 2,
   "metadata": {},
   "outputs": [],
   "source": [
    "# Heights, in cm\n",
    "X = np.array([188.53675454, 184.70654578, 151.09735791, 164.36483092,\n",
    "       168.26683755, 164.16100367, 192.05069779, 165.76617936,\n",
    "       168.06909493, 188.90621868, 174.92165251, 153.59884988,\n",
    "       175.2229729 , 191.1264832 , 173.65462449, 174.29709269,\n",
    "       174.42391046, 148.76843808, 195.88238234, 177.81542544])"
   ]
  },
  {
   "cell_type": "code",
   "execution_count": 3,
   "metadata": {},
   "outputs": [],
   "source": [
    "# Weights, in kg\n",
    "Y = np.array([ 97.16635985,  66.56711927,  78.46545355,  82.73956732,\n",
    "        50.27365043,  71.2523942 , 110.05660504,  63.83136855,\n",
    "        54.91020919,  82.22492553,  91.159724  ,  63.59812684,\n",
    "        53.32374706,  63.87788126,  92.49811908,  57.29296249,\n",
    "        87.04770013,  46.03189333,  59.9751531 ,  84.22532972])"
   ]
  },
  {
   "cell_type": "code",
   "execution_count": 4,
   "metadata": {},
   "outputs": [
    {
     "data": {
      "text/plain": [
       "87.38932004789447"
      ]
     },
     "execution_count": 4,
     "metadata": {},
     "output_type": "execute_result"
    }
   ],
   "source": [
    "np.cov(X, Y)[0, 1]  # For the reason we need to sub-index, see the previous module."
   ]
  },
  {
   "cell_type": "markdown",
   "metadata": {},
   "source": [
    "This covariance is positive, so we know that as X changes, Y changes in the same direction. The value itself is nearly meaningless to us here, and one should be careful to try and interpret it.\n",
    "\n",
    "Correlation can be computed a couple of different ways, but the most useful (and most common) for us here is to derive it from the covariance. \n",
    "\n",
    "As the covariance is:\n",
    "\n",
    "$cov(X,Y) = E[(X-E[X])(Y-E[Y])]$\n",
    "\n",
    "The correlation is a normalisation of this value:\n",
    "\n",
    "$corr(X,Y) = \\frac{cov(X, Y)}{\\sigma_X \\sigma_Y}$\n",
    "\n",
    "Which is:\n",
    "\n",
    "$corr(X, Y) = \\frac{E[(X-E[X])(Y-E[Y])]}{\\sigma_X \\sigma_Y}$\n",
    "\n",
    "As both $\\sigma_X$ and $\\sigma_Y$ have the same dimension as the original $X$ and $Y$, the value $\\sigma_X \\sigma_Y$ has the same dimension as the covariance. In our previous example, the standard deviation of $X$ is about 29.3cm and the standard deviation of $Y$ is about 58.65kg, so the value $\\sigma_X \\sigma_Y$ is approximately 1720 cmkg. This unit cancels out the unit of the covariance term (the numerator in the fraction), giving a dimensionless value."
   ]
  },
  {
   "cell_type": "markdown",
   "metadata": {},
   "source": [
    "#### Exercises\n",
    "\n",
    "For each of the next three questions, work out the answer using three techniques:\n",
    "\n",
    "* Intuitively guess the answer\n",
    "* Write some code to estimate the answer (for instance, create a random variable `X = np.random.randn...`)\n",
    "* Solve mathematically \n",
    "\n",
    "Find the following three values:\n",
    "\n",
    "1. What is the correlation of a variable with itself?\n",
    "2. What is the correlation of the negation of a variable with itself?\n",
    "3. What is the correlation of a randomly-chosen variable with another randomly-chosen variable?"
   ]
  },
  {
   "cell_type": "markdown",
   "metadata": {},
   "source": [
    "### What the correlation tells us\n",
    "\n",
    "The correlation is a measure, similar to the covariance, except that it is easier to intuitively grasp. A correlation of 1 is a perfect correlation - $X$ increases exactly as $Y$ increases. Here is an example:"
   ]
  },
  {
   "cell_type": "code",
   "execution_count": 5,
   "metadata": {},
   "outputs": [
    {
     "data": {
      "text/plain": [
       "1.0"
      ]
     },
     "execution_count": 5,
     "metadata": {},
     "output_type": "execute_result"
    }
   ],
   "source": [
    "X = np.random.random(10)  # 10 random values\n",
    "Y1 = X + 2\n",
    "np.corrcoef(X, Y1)[0, 1]"
   ]
  },
  {
   "cell_type": "markdown",
   "metadata": {},
   "source": [
    "Here, even though $X$ and $Y1$ have different scales, they \"move together\" perfectly. A correlation of -1 is the minimum, and represents a perfect negation:"
   ]
  },
  {
   "cell_type": "code",
   "execution_count": 6,
   "metadata": {},
   "outputs": [],
   "source": [
    "Y2 = -X * 5"
   ]
  },
  {
   "cell_type": "code",
   "execution_count": 7,
   "metadata": {},
   "outputs": [
    {
     "data": {
      "text/plain": [
       "-1.0"
      ]
     },
     "execution_count": 7,
     "metadata": {},
     "output_type": "execute_result"
    }
   ],
   "source": [
    "np.corrcoef(X, Y2)[0, 1]"
   ]
  },
  {
   "cell_type": "markdown",
   "metadata": {},
   "source": [
    "Again, different scales, but the correlation simply tells us about how they move together. To get a visual sense of this, let's graph those values:"
   ]
  },
  {
   "cell_type": "code",
   "execution_count": 8,
   "metadata": {},
   "outputs": [
    {
     "data": {
      "text/plain": [
       "[<matplotlib.lines.Line2D at 0x7f4508b5c4a8>]"
      ]
     },
     "execution_count": 8,
     "metadata": {},
     "output_type": "execute_result"
    },
    {
     "data": {
      "image/png": "[encoded data removed]",
      "text/plain": [
       "<Figure size 432x288 with 1 Axes>"
      ]
     },
     "metadata": {
      "needs_background": "light"
     },
     "output_type": "display_data"
    }
   ],
   "source": [
    "plt.plot(X, Y1, \"*\", color='blue')"
   ]
  },
  {
   "cell_type": "code",
   "execution_count": 9,
   "metadata": {},
   "outputs": [
    {
     "data": {
      "text/plain": [
       "[<matplotlib.lines.Line2D at 0x7f450949add8>]"
      ]
     },
     "execution_count": 9,
     "metadata": {},
     "output_type": "execute_result"
    },
    {
     "data": {
      "image/png": "[encoded data removed]",
      "text/plain": [
       "<Figure size 432x288 with 1 Axes>"
      ]
     },
     "metadata": {
      "needs_background": "light"
     },
     "output_type": "display_data"
    }
   ],
   "source": [
    "plt.plot(X, Y2, \"*\", color='orange')"
   ]
  },
  {
   "cell_type": "markdown",
   "metadata": {},
   "source": [
    "### Correlation does not imply causation\n",
    "\n",
    "Any discussion about correlation must include the above disclaimer. If two variables $X$ and $Y$ have a strong (or even perfect) correlation, this does not imply that $X$ causes $Y$. To see this simply, note that there is no \"order\" in the equation, and:\n",
    "\n",
    "$corr(X, Y) = \\frac{E[(X-E[X])(Y-E[Y])]}{\\sigma_X \\sigma_Y}$\n",
    "\n",
    "this is equal to:\n",
    "\n",
    "$corr(Y, X) = \\frac{E[(Y-E[Y])(X-E[X])]}{\\sigma_Y \\sigma_X}$\n",
    "\n",
    "At the very least, even *if* there is a causation between $X$ and $Y$ (and we still haven't shown that), we do not know whether $X$ causes $Y$, or if $Y$ causes $X$!\n",
    "\n",
    "\n",
    "There are two main reasons why you get a strong correlation, without having a causation either way.\n",
    "\n",
    "1. There is an underlying factor, let's call it $Z$, that causes both $X$ and $Y$. This may be true even if we do not know, or can't directly measure the values of $Z$. Then $Z$ causes $X$ and $Z$ causes $Y$, and therefore both $X$ and $Y$ \"move together\".\n",
    "2. You simply get \"unlucky\" and the two values *just happen* to have a high correlation, even though they aren't related.\n",
    "\n",
    "Let's have a look at both of these in more detail."
   ]
  },
  {
   "cell_type": "markdown",
   "metadata": {},
   "source": [
    "### Underlying factors\n",
    "\n",
    "There may be an underlying factor that causes both $X$ and $Y$. A common example here is the following two variables that have a high correlation:\n",
    "\n",
    "1. Ice cream sales\n",
    "2. Deaths by drowning\n",
    "\n",
    "Measuring these two variables indicates a high correlation, so what is going on here? Selling more ice cream does not cause drownings, nor does people drowning sell more ice creams (one would hope). Instead, there is an underlying factor - the weather. If it is hot, ice creams sell more, and people go swimming more, leading to more drownings.\n",
    "\n",
    "In time series data, this is particularly troublesome. For instance, due to inflation, *most things increase in price over time*. Therefore, if you plot the price of two commodities over time, you are likely to get a positive correlation, even if there is no causation between them! More abstractly, if you plot two S&P 500 companies, you are plotting two *successful* companies, and therefore they would correlate strongly simply because they must have been *somewhat successful* to be a top 500 company. This is a form of \"survival bias\".\n",
    "\n",
    "For example, here is the correlation between gold and wheat prices:"
   ]
  },
  {
   "cell_type": "code",
   "execution_count": 10,
   "metadata": {},
   "outputs": [],
   "source": [
    "import quandl\n",
    "gold_price = quandl.get(\"LBMA/GOLD\")['USD (AM)']"
   ]
  },
  {
   "cell_type": "code",
   "execution_count": 11,
   "metadata": {},
   "outputs": [
    {
     "data": {
      "text/plain": [
       "Date\n",
       "1968-01-02    35.18\n",
       "1968-01-03    35.16\n",
       "1968-01-04    35.14\n",
       "1968-01-05    35.14\n",
       "1968-01-08    35.14\n",
       "Name: USD (AM), dtype: float64"
      ]
     },
     "execution_count": 11,
     "metadata": {},
     "output_type": "execute_result"
    }
   ],
   "source": [
    "gold_price.head()"
   ]
  },
  {
   "cell_type": "code",
   "execution_count": 12,
   "metadata": {},
   "outputs": [],
   "source": [
    "wheat_futures = quandl.get(\"CHRIS/MGEX_IH1\")['Last']"
   ]
  },
  {
   "cell_type": "code",
   "execution_count": 13,
   "metadata": {},
   "outputs": [
    {
     "data": {
      "text/plain": [
       "Date\n",
       "2005-01-03    321.00\n",
       "2005-01-04    318.00\n",
       "2005-01-05    319.25\n",
       "2005-01-06    328.00\n",
       "2005-01-07    329.50\n",
       "Name: Last, dtype: float64"
      ]
     },
     "execution_count": 13,
     "metadata": {},
     "output_type": "execute_result"
    }
   ],
   "source": [
    "wheat_futures.head()"
   ]
  },
  {
   "cell_type": "code",
   "execution_count": 14,
   "metadata": {},
   "outputs": [
    {
     "data": {
      "text/html": [
       "<div>\n",
       "<style scoped>\n",
       "    .dataframe tbody tr th:only-of-type {\n",
       "        vertical-align: middle;\n",
       "    }\n",
       "\n",
       "    .dataframe tbody tr th {\n",
       "        vertical-align: top;\n",
       "    }\n",
       "\n",
       "    .dataframe thead th {\n",
       "        text-align: right;\n",
       "    }\n",
       "</style>\n",
       "<table border=\"1\" class=\"dataframe\">\n",
       "  <thead>\n",
       "    <tr style=\"text-align: right;\">\n",
       "      <th></th>\n",
       "      <th>gold</th>\n",
       "      <th>wheat</th>\n",
       "    </tr>\n",
       "    <tr>\n",
       "      <th>Date</th>\n",
       "      <th></th>\n",
       "      <th></th>\n",
       "    </tr>\n",
       "  </thead>\n",
       "  <tbody>\n",
       "    <tr>\n",
       "      <th>2005-01-04</th>\n",
       "      <td>426.80</td>\n",
       "      <td>318.00</td>\n",
       "    </tr>\n",
       "    <tr>\n",
       "      <th>2005-01-05</th>\n",
       "      <td>425.50</td>\n",
       "      <td>319.25</td>\n",
       "    </tr>\n",
       "    <tr>\n",
       "      <th>2005-01-06</th>\n",
       "      <td>425.80</td>\n",
       "      <td>328.00</td>\n",
       "    </tr>\n",
       "    <tr>\n",
       "      <th>2005-01-07</th>\n",
       "      <td>423.15</td>\n",
       "      <td>329.50</td>\n",
       "    </tr>\n",
       "    <tr>\n",
       "      <th>2005-01-10</th>\n",
       "      <td>421.25</td>\n",
       "      <td>327.50</td>\n",
       "    </tr>\n",
       "  </tbody>\n",
       "</table>\n",
       "</div>"
      ],
      "text/plain": [
       "              gold   wheat\n",
       "Date                      \n",
       "2005-01-04  426.80  318.00\n",
       "2005-01-05  425.50  319.25\n",
       "2005-01-06  425.80  328.00\n",
       "2005-01-07  423.15  329.50\n",
       "2005-01-10  421.25  327.50"
      ]
     },
     "execution_count": 14,
     "metadata": {},
     "output_type": "execute_result"
    }
   ],
   "source": [
    "prices = pd.DataFrame({\"gold\": gold_price, \"wheat\": wheat_futures})\n",
    "prices.dropna(inplace=True)  # Drop rows where we don't have both gold and wheat\n",
    "prices.head()"
   ]
  },
  {
   "cell_type": "code",
   "execution_count": 15,
   "metadata": {},
   "outputs": [
    {
     "data": {
      "text/plain": [
       "<matplotlib.axes._subplots.AxesSubplot at 0x7f45081576d8>"
      ]
     },
     "execution_count": 15,
     "metadata": {},
     "output_type": "execute_result"
    },
    {
     "data": {
      "image/png": "[encoded data removed]",
      "text/plain": [
       "<Figure size 432x288 with 1 Axes>"
      ]
     },
     "metadata": {
      "needs_background": "light"
     },
     "output_type": "display_data"
    }
   ],
   "source": [
    "prices.plot()"
   ]
  },
  {
   "cell_type": "code",
   "execution_count": 16,
   "metadata": {},
   "outputs": [
    {
     "data": {
      "text/html": [
       "<div>\n",
       "<style scoped>\n",
       "    .dataframe tbody tr th:only-of-type {\n",
       "        vertical-align: middle;\n",
       "    }\n",
       "\n",
       "    .dataframe tbody tr th {\n",
       "        vertical-align: top;\n",
       "    }\n",
       "\n",
       "    .dataframe thead th {\n",
       "        text-align: right;\n",
       "    }\n",
       "</style>\n",
       "<table border=\"1\" class=\"dataframe\">\n",
       "  <thead>\n",
       "    <tr style=\"text-align: right;\">\n",
       "      <th></th>\n",
       "      <th>gold</th>\n",
       "      <th>wheat</th>\n",
       "    </tr>\n",
       "  </thead>\n",
       "  <tbody>\n",
       "    <tr>\n",
       "      <th>gold</th>\n",
       "      <td>1.000000</td>\n",
       "      <td>0.404807</td>\n",
       "    </tr>\n",
       "    <tr>\n",
       "      <th>wheat</th>\n",
       "      <td>0.404807</td>\n",
       "      <td>1.000000</td>\n",
       "    </tr>\n",
       "  </tbody>\n",
       "</table>\n",
       "</div>"
      ],
      "text/plain": [
       "           gold     wheat\n",
       "gold   1.000000  0.404807\n",
       "wheat  0.404807  1.000000"
      ]
     },
     "execution_count": 16,
     "metadata": {},
     "output_type": "execute_result"
    }
   ],
   "source": [
    "prices.corr()"
   ]
  },
  {
   "cell_type": "markdown",
   "metadata": {},
   "source": [
    "Here, the correlation between wheat and gold is a positive correlation. However, there is no impactful causation here - the price of gold would not directly affect the price of wheat. Gold is more reliant on economic factors, such as an unstable market may drive people to buy gold as a safer investment. Wheat is more reliant on factors like weather, which determine supply. To oversimplify, good weather causes more supply, leading to reduced prices.\n",
    "\n",
    "There *are* underlying factors that affect both. Financial markets do affect both prices, as does other factors like international instability. However, the main factor is simply inflation.\n",
    "\n",
    "We will cover, in great detail, how to determine correlation in time series. The short and simple version, however, is simply to *detrend* the data. In other words, look for the underlying trend and remove it from the data. Then compute the correlation between the detrended data.\n",
    "\n",
    "A simple detrending concept is to fit a linear model (i.e. $y= ax + b$) and then subtract the model's predicted value from the actual value. This leaves over the residue, or error, of the model, and we compute the correlation of those. A strong correlation in that case is much more significant (although, still not a causation)."
   ]
  },
  {
   "cell_type": "markdown",
   "metadata": {},
   "source": [
    "#### Exercise\n",
    "\n",
    "Remove the trend from the wheat and gold data above, and compute the correlation of the detrended data.\n",
    "\n",
    "A good function to use is `scipy.signal.detrend`, although if you have a preferred means of computing a linear model from data (for instance, using statsmodels), feel free to use that."
   ]
  },
  {
   "cell_type": "markdown",
   "metadata": {},
   "source": [
    "*For solutions, see `solutions/detrending.py`*"
   ]
  },
  {
   "cell_type": "markdown",
   "metadata": {},
   "source": [
    "### Random correlation\n",
    "\n",
    "While generally unlikely in a single experiment, two variables may be correlated for no reason other than *random chance*. This is less likely with larger datasets.\n",
    "\n",
    "However, one factor that *increases* the chance of getting a randomly high correlation is the large number of experiments that we run on a daily instance. Consider a machine learning algorithm that compares dozens of lag periods across thousands of stocks. *At least some* of these will have high correlations that are meaningless and produce no actionable outcome.\n",
    "\n",
    "To show this in action, here is a simple experiment, performed once. We create two random sets of data, and compute the correlation. If it is above 0.8, we say we \"found a high correlation\". It is unlikely that the following cell actually does so. Most of the time (for a very high value of \"most\") you will get a correlation close to zero."
   ]
  },
  {
   "cell_type": "code",
   "execution_count": 17,
   "metadata": {},
   "outputs": [
    {
     "name": "stdout",
     "output_type": "stream",
     "text": [
      "Correlation is: -0.041709625054788785\n",
      "Did not find a high correlation\n"
     ]
    }
   ],
   "source": [
    "n_datapoints = 20\n",
    "x_random = np.random.random(n_datapoints)\n",
    "y_random = np.random.random(n_datapoints)\n",
    "\n",
    "corr = np.corrcoef(x_random, y_random)[0, 1]\n",
    "\n",
    "print(\"Correlation is:\", corr)\n",
    "if corr > 0.8:\n",
    "    print(\"Found a high correlation\")\n",
    "else:\n",
    "    print(\"Did not find a high correlation\")"
   ]
  },
  {
   "cell_type": "markdown",
   "metadata": {},
   "source": [
    "In practice, we never run just one experiment, and a new factor to consider in running experiments with computers is the appeal of being able to run *millions* of experiments:"
   ]
  },
  {
   "cell_type": "code",
   "execution_count": 18,
   "metadata": {},
   "outputs": [],
   "source": [
    "def run_experiment(n_datapoints=20):\n",
    "    # Note that all data here is randomly chosen\n",
    "    x_random = np.random.random(n_datapoints)\n",
    "    y_random = np.random.random(n_datapoints)\n",
    "    corr = np.corrcoef(x_random, y_random)[0,1]\n",
    "    return corr > 0.8"
   ]
  },
  {
   "cell_type": "code",
   "execution_count": null,
   "metadata": {},
   "outputs": [],
   "source": [
    "n_experiments = 10  # Change to 10000, but this will take a while to run\n",
    "\n",
    "for i in range(n_experiments):\n",
    "    if run_experiment():\n",
    "        print(\"Found a correlation on experiment {}!\".format(i))\n",
    "print(\"Finished running experiments\")"
   ]
  },
  {
   "cell_type": "markdown",
   "metadata": {},
   "source": [
    "#### Exercises\n",
    "\n",
    "There are two factors that affect how many of these *false positive* results we get - in other words, correlations that just happen to be high by chance. The two factors are:\n",
    "\n",
    "1) How much data you have\n",
    "2) The level at which a correlation is considered \"high\", i.e. the 0.8 in the above code.\n",
    "\n",
    "Plot the relationship between these two factors, and the percentage of false positives in running your experiments. Note you might need a log scale on one or both of your axis to properly visualise the results.\n",
    "\n",
    "Use `np.logspace` to produce a log scale for the number of datapoints.\n",
    "\n",
    "Write a snippet of code that generates a graph showing the relationship between how many data points you have, and the percentage of false positives (FP) you get. Generate another graph showing the relationship between the \"high\" correlation level and the FP rate.\n",
    "\n",
    "**Hint - writing better code**\n",
    "\n",
    "To make your code more manageable and easier to read, encapsulate your behaviour into functions. In other words, take your code, and write small functions that do that one thing. Have the function accept different parameters that you can pass. As an example, if we wanted to run two sets of experiments of different sizes, we can do this:\n",
    "\n",
    "```\n",
    "for i in range(10000):\n",
    "    run_experiment()\n",
    "    \n",
    "for j in range(1000):\n",
    "    run_experiment()\n",
    "\n",
    "```\n",
    "\n",
    "or, you can parameterise the number of experiments and pass that as a function:\n",
    "\n",
    "```\n",
    "def run_many_experiments(n_experiments):\n",
    "    for i in range(n_experiments):\n",
    "        run_experiment()\n",
    "        \n",
    "run_many_experiments(100000)\n",
    "run_many_experiments(1000)\n",
    "```\n",
    "\n",
    "The second case results in less duplicated code (duplicate code can cause bugs), and is easier to manage. You take the complexity of \"running multiple experiments\", and hide/encapsulate that into the function `run_many_experiments`. This hides the complexity for later users of your code.\n",
    "\n",
    "**Hint** This code, may take a while to compute when completed. You can estimate this by using the following profiling code to test how long *one* iteration takes, and then use that to estimate how long the full process will take."
   ]
  },
  {
   "cell_type": "code",
   "execution_count": 3,
   "metadata": {},
   "outputs": [
    {
     "name": "stdout",
     "output_type": "stream",
     "text": [
      "50.2 ms ± 8.18 µs per loop (mean ± std. dev. of 7 runs, 10 loops each)\n"
     ]
    }
   ],
   "source": [
    "import time\n",
    "\n",
    "def my_function():\n",
    "    # Replace with your code\n",
    "    time.sleep(0.05)\n",
    "\n",
    "%timeit my_function()"
   ]
  },
  {
   "cell_type": "markdown",
   "metadata": {},
   "source": [
    "*For solutions, see `solutions/false_positives.py`*"
   ]
  }
 ],
 "metadata": {
  "kernelspec": {
   "display_name": "Python 3",
   "language": "python",
   "name": "python3"
  },
  "language_info": {
   "codemirror_mode": {
    "name": "ipython",
    "version": 3
   },
   "file_extension": ".py",
   "mimetype": "text/x-python",
   "name": "python",
   "nbconvert_exporter": "python",
   "pygments_lexer": "ipython3",
   "version": "3.7.1"
  }
 },
 "nbformat": 4,
 "nbformat_minor": 2
}
