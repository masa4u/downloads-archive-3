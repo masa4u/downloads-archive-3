{
 "cells": [
  {
   "cell_type": "markdown",
   "metadata": {},
   "source": [
    "## Live Risk and Performance Predict\n",
    "\n",
    "### Summary \n",
    "\n",
    "While we are working on delivering live risk in gs-quant, computing risk real-time for large portfolios can be computationaly expensive. In this notebook, I team up with FICC Derivatives' David Vanden Bon to introduce a simple and lightweight framework for approximating it. This means you can compute your end of day risk and connect a live market feed to this code to estimate how performance, delta and gamma risk are changing for your book in real time. \n",
    "\n",
    "You can also use this framework to predict performance - that is, estimate impact of a hypothetical market move, which can be a useful risk management tool.\n",
    "\n",
    "More specifically, we do this by calculating a delta ladder for our portfolio via applying a number of spot shocks. We use the delta values to fit a polynomial for each instrument in the curve and then use this polynomial to appriximate delta, gamma and pnl for any given market move in these instruments.\n",
    "\n",
    "Let's get started!\n",
    "\n",
    "Don't forget to check out the [What's New](#What's-New) section for the latest gs-quant additions.\n",
    "\n",
    "The content of this notebook is split into:\n",
    "* [1 - Let's get started with gs quant](#1---Let's-get-started-with-gs-quant)\n",
    "* [2 - Create or load portfolio](#2---Create-or-load-portfolio)\n",
    "* [3 - Calculate delta ladder](#3---Calculate-delta-ladder)\n",
    "* [4 - Fit polynomial](#4---Fit-polynomial)\n",
    "* [5 - Estimate performance and risk for any market move](#5---Estimate-performance-and-risk-for-any-market-move)\n",
    "* [What's New](#What's-New)"
   ]
  },
  {
   "cell_type": "markdown",
   "metadata": {},
   "source": [
    "### 1 - Let's get started with gs quant\n",
    "Start every session with authenticating with your unique client id and secret. If you don't have a registered app, create one [here](https://marquee.gs.com/s/developer/myapps/register). `run_analytics` scope is required for the functionality covered in this example. Below produced using gs-quant version 0.8.130."
   ]
  },
  {
   "cell_type": "code",
   "execution_count": 18,
   "metadata": {},
   "outputs": [],
   "source": [
    "from gs_quant.session import GsSession\n",
    "GsSession.use(client_id=None, client_secret=None, scopes=('run_analytics',))"
   ]
  },
  {
   "cell_type": "markdown",
   "metadata": {},
   "source": [
    "### 2 - Create or load portfolio\n",
    "\n",
    "The goal for this section is to load your own book. If you are an internal user please reach out for ways to connect your book.\n",
    "\n",
    "If you are an external user, we have additional natural language processing tools to help map your book coming soon! \n",
    "\n",
    "For this note, I'll create a sample portfolio of a combination of 3m, 1y, 2y and 3y expiry payer and receiver swaptions on 5y, 10y, 15y and 20y tails struck 10, 20 and 30bps OTMF and resolve it to fix all the relative parameters."
   ]
  },
  {
   "cell_type": "code",
   "execution_count": 19,
   "metadata": {},
   "outputs": [],
   "source": [
    "from gs_quant.instrument import IRSwaption\n",
    "from gs_quant.markets.portfolio import Portfolio\n",
    "from gs_quant.target.common import PayReceive, Currency\n",
    "\n",
    "ccy = Currency.USD\n",
    "payers = [IRSwaption(PayReceive.Pay, termination_date='{}y'.format(t), notional_currency=ccy, \n",
    "                     expiration_date='{}m'.format(e), strike='a+{}'.format(s)) \n",
    "          for t in [5, 10, 15, 20] for e in [3, 12, 24, 36] for s in [10, 20, 30]]\n",
    "\n",
    "receivers = [IRSwaption(PayReceive.Receive, termination_date='{}y'.format(t), notional_currency=ccy, \n",
    "                     expiration_date='{}m'.format(e), strike='a-{}'.format(s)) \n",
    "          for t in [5, 10, 15, 20] for e in [3, 12, 24, 36] for s in [10, 20, 30]]\n",
    "\n",
    "portfolio = Portfolio(payers + receivers)\n",
    "portfolio.resolve()"
   ]
  },
  {
   "cell_type": "markdown",
   "metadata": {},
   "source": [
    "### 3 - Calculate Delta Ladder\n",
    "\n",
    "Now, let's take our portfolio and calculate a delta ladder by shocking spot with varying shifts (where 0 our portfolio delta without any shocks applied). Each row in the resulting dataframe corresponds to a different instrument. We will use this delta information to fit a polynomial for each of these instruments in the next step."
   ]
  },
  {
   "cell_type": "code",
   "execution_count": 20,
   "metadata": {},
   "outputs": [
    {
     "data": {
      "text/html": [
       "<div>\n",
       "<style scoped>\n",
       "    .dataframe tbody tr th:only-of-type {\n",
       "        vertical-align: middle;\n",
       "    }\n",
       "\n",
       "    .dataframe tbody tr th {\n",
       "        vertical-align: top;\n",
       "    }\n",
       "\n",
       "    .dataframe thead th {\n",
       "        text-align: right;\n",
       "    }\n",
       "</style>\n",
       "<table border=\"1\" class=\"dataframe\">\n",
       "  <thead>\n",
       "    <tr style=\"text-align: right;\">\n",
       "      <th></th>\n",
       "      <th>mkt_type</th>\n",
       "      <th>mkt_asset</th>\n",
       "      <th>mkt_class</th>\n",
       "      <th>mkt_point</th>\n",
       "      <th>-50</th>\n",
       "      <th>-40</th>\n",
       "      <th>-30</th>\n",
       "      <th>-20</th>\n",
       "      <th>-10</th>\n",
       "      <th>-5</th>\n",
       "      <th>-2</th>\n",
       "      <th>0</th>\n",
       "      <th>2</th>\n",
       "      <th>5</th>\n",
       "      <th>10</th>\n",
       "      <th>20</th>\n",
       "      <th>30</th>\n",
       "      <th>40</th>\n",
       "      <th>50</th>\n",
       "    </tr>\n",
       "  </thead>\n",
       "  <tbody>\n",
       "    <tr>\n",
       "      <th>0</th>\n",
       "      <td>IR</td>\n",
       "      <td>USD</td>\n",
       "      <td>CASH</td>\n",
       "      <td>O/N</td>\n",
       "      <td>-96.652300</td>\n",
       "      <td>-87.508851</td>\n",
       "      <td>-80.140622</td>\n",
       "      <td>-74.702595</td>\n",
       "      <td>-71.280237</td>\n",
       "      <td>-70.330161</td>\n",
       "      <td>-70.001395</td>\n",
       "      <td>-69.881709</td>\n",
       "      <td>-69.840876</td>\n",
       "      <td>-69.925542</td>\n",
       "      <td>-70.448960</td>\n",
       "      <td>-72.866759</td>\n",
       "      <td>-76.972091</td>\n",
       "      <td>-82.564403</td>\n",
       "      <td>-89.423074</td>\n",
       "    </tr>\n",
       "    <tr>\n",
       "      <th>1</th>\n",
       "      <td>IR</td>\n",
       "      <td>USD</td>\n",
       "      <td>CASH</td>\n",
       "      <td>CASH STUB</td>\n",
       "      <td>19236.462658</td>\n",
       "      <td>15938.264198</td>\n",
       "      <td>12100.009823</td>\n",
       "      <td>7851.226480</td>\n",
       "      <td>3375.412126</td>\n",
       "      <td>1107.540696</td>\n",
       "      <td>-251.889772</td>\n",
       "      <td>-1155.410051</td>\n",
       "      <td>-2055.450143</td>\n",
       "      <td>-3397.138702</td>\n",
       "      <td>-5601.994693</td>\n",
       "      <td>-9838.668869</td>\n",
       "      <td>-13744.821189</td>\n",
       "      <td>-17227.777252</td>\n",
       "      <td>-20248.264302</td>\n",
       "    </tr>\n",
       "    <tr>\n",
       "      <th>2</th>\n",
       "      <td>IR</td>\n",
       "      <td>USD</td>\n",
       "      <td>FRA</td>\n",
       "      <td>JUN20</td>\n",
       "      <td>58295.744762</td>\n",
       "      <td>48164.753974</td>\n",
       "      <td>36542.379396</td>\n",
       "      <td>23781.786655</td>\n",
       "      <td>10376.965634</td>\n",
       "      <td>3584.071217</td>\n",
       "      <td>-489.994901</td>\n",
       "      <td>-3198.958126</td>\n",
       "      <td>-5898.759200</td>\n",
       "      <td>-9925.239905</td>\n",
       "      <td>-16549.585996</td>\n",
       "      <td>-29314.223366</td>\n",
       "      <td>-41151.872378</td>\n",
       "      <td>-51799.726695</td>\n",
       "      <td>-61135.816203</td>\n",
       "    </tr>\n",
       "  </tbody>\n",
       "</table>\n",
       "</div>"
      ],
      "text/plain": [
       "  mkt_type mkt_asset mkt_class  mkt_point           -50           -40  \\\n",
       "0       IR       USD      CASH        O/N    -96.652300    -87.508851   \n",
       "1       IR       USD      CASH  CASH STUB  19236.462658  15938.264198   \n",
       "2       IR       USD       FRA      JUN20  58295.744762  48164.753974   \n",
       "\n",
       "            -30           -20           -10           -5          -2  \\\n",
       "0    -80.140622    -74.702595    -71.280237   -70.330161  -70.001395   \n",
       "1  12100.009823   7851.226480   3375.412126  1107.540696 -251.889772   \n",
       "2  36542.379396  23781.786655  10376.965634  3584.071217 -489.994901   \n",
       "\n",
       "             0            2            5            10            20  \\\n",
       "0   -69.881709   -69.840876   -69.925542    -70.448960    -72.866759   \n",
       "1 -1155.410051 -2055.450143 -3397.138702  -5601.994693  -9838.668869   \n",
       "2 -3198.958126 -5898.759200 -9925.239905 -16549.585996 -29314.223366   \n",
       "\n",
       "             30            40            50  \n",
       "0    -76.972091    -82.564403    -89.423074  \n",
       "1 -13744.821189 -17227.777252 -20248.264302  \n",
       "2 -41151.872378 -51799.726695 -61135.816203  "
      ]
     },
     "execution_count": 20,
     "metadata": {},
     "output_type": "execute_result"
    }
   ],
   "source": [
    "from gs_quant.markets import PricingContext\n",
    "from gs_quant.risk import MarketDataShockBasedScenario, MarketDataPattern, MarketDataShock, MarketDataShockType, Price, IRDeltaLocalCcy\n",
    "\n",
    "# calculate the base delta case (current delta of portfolio - 0bp shift in the rates)\n",
    "delta = portfolio.calc(IRDeltaLocalCcy).aggregate().rename(columns = {'value': 0})\n",
    "\n",
    "# calculate delta ladder (local delta for a number of shifts)\n",
    "shifts = [-50, -40, -30, -20, -10, -5, -2, 0, 2, 5, 10, 20, 30, 40, 50]\n",
    "results = {}\n",
    "with PricingContext(is_async=True):\n",
    "    for shift in shifts:\n",
    "        with MarketDataShockBasedScenario({\n",
    "            MarketDataPattern('IR', ccy): MarketDataShock(MarketDataShockType.Absolute, shift / 10000),\n",
    "            MarketDataPattern('IR Reset', '{}-3m'.format(ccy)): MarketDataShock(MarketDataShockType.Absolute, shift / 10000),\n",
    "            MarketDataPattern('IR Reset', '{}-6m'.format(ccy)): MarketDataShock(MarketDataShockType.Absolute, shift / 10000)\n",
    "        }):\n",
    "            results[shift] = portfolio.calc(IRDeltaLocalCcy)\n",
    "\n",
    "# aggregate delta and insert into dataframe\n",
    "for shift in shifts:\n",
    "    delta[shift] = results[shift].aggregate().value\n",
    "\n",
    "# insert base delta into sorted numerical column order    \n",
    "cols = list(delta.columns)\n",
    "column_list = cols[:4] + sorted(cols[4:])\n",
    "delta = delta[column_list]\n",
    "delta.head(3)"
   ]
  },
  {
   "cell_type": "markdown",
   "metadata": {},
   "source": [
    "### 4 - Fit Polynomial\n",
    "\n",
    "With delta accross various shocks for each instrument in hand (the frame above), we can calculate a polynomial which fits the evolution of delta across the shifts for each instrument.\n",
    "\n",
    "`coeffs` will give us the polynomial (order number of shifts-1) coefficients for each instrument, thus `coeffs` is a matrix of size `len(delta)` x `len(shifts)` where each matrix row is a polynomial corresponding to the coefficients for each instrument. In this example it will be 30x15.\n",
    "\n",
    "We'll use this polynomial in the next step to extrapolate delta, gamma and performance to any market move.\n",
    "\n",
    "Note polynomial fitting is as much as art it is a science and additional techniques can be used here to avoid overfitting which can produce kinks and other undesirable effects."
   ]
  },
  {
   "cell_type": "code",
   "execution_count": 21,
   "metadata": {
    "scrolled": true
   },
   "outputs": [],
   "source": [
    "import numpy as np\n",
    "\n",
    "coeffs = [np.polynomial.polynomial.polyfit(shifts, row.values, len(shifts) - 1) for _, row in delta[shifts].iterrows()]"
   ]
  },
  {
   "cell_type": "markdown",
   "metadata": {},
   "source": [
    "We can now visualize what the polynomial looks for a particular point in the curve - '5Y' in the example below. The points in the graph are the shocks we fit the polynomial on for the '5Y' instrument.\n",
    "\n",
    "This means that for '5Y' instrument (and the rest of instruments in the table above) we can plug in any market move and get the expected delta (plug in x=spot and get y=delta, which we'll do in the next step)."
   ]
  },
  {
   "cell_type": "code",
   "execution_count": 22,
   "metadata": {},
   "outputs": [
    {
     "data": {
      "text/plain": [
       "Text(0, 0.5, 'Delta')"
      ]
     },
     "execution_count": 22,
     "metadata": {},
     "output_type": "execute_result"
    },
    {
     "data": {
      "image/png": "[encoded data removed]",
      "text/plain": [
       "<Figure size 432x288 with 1 Axes>"
      ]
     },
     "metadata": {
      "needs_background": "light"
     },
     "output_type": "display_data"
    }
   ],
   "source": [
    "import matplotlib.pyplot as plt\n",
    "\n",
    "point = '5Y'\n",
    "\n",
    "x = shifts\n",
    "y = delta[delta['mkt_point'] == point][shifts].values[0]\n",
    "coefficients = np.polyfit(x, y, len(x)-1)\n",
    "poly = np.poly1d(coefficients)\n",
    "\n",
    "new_x = np.linspace(x[0], x[-1], 100)\n",
    "new_y = poly(new_x)\n",
    "\n",
    "plt.plot(x, y, \"o\", new_x, new_y)\n",
    "plt.xlim([x[0]-1, x[-1] + 1])\n",
    "plt.title('Delta curve for {}'.format(point))\n",
    "plt.xlabel('Spot Move (bps)')\n",
    "plt.ylabel('Delta')"
   ]
  },
  {
   "cell_type": "markdown",
   "metadata": {},
   "source": [
    "### 5 - Predicting Performance and Risk\n",
    "\n",
    "We can already get expected delta for any market move using our polynomial above - with a big of simple math, we can also get gamma (first derivative) and pnl approximation. Let's define a few functions to help us to that."
   ]
  },
  {
   "cell_type": "code",
   "execution_count": 23,
   "metadata": {},
   "outputs": [],
   "source": [
    "def delta_f(inst_coeff, market_move):\n",
    "    return sum([c*market_move**(i) for i, c in enumerate(inst_coeff)])\n",
    "\n",
    "def gamma_f(inst_coeff, market_move):\n",
    "    return sum([(i + 1)*c*market_move**(i) for i, c in enumerate(inst_coeff[1:])])\n",
    "    \n",
    "def pnl_f(inst_coeff, market_move):\n",
    "    return sum([(c*market_move**(i + 1))/(i + 1) for i, c in enumerate(inst_coeff)])\n",
    "   \n",
    "def get_derived_values(inst_coeff, market_move):\n",
    "    b_delta = inst_coeff[0]\n",
    "    b_gamma = gamma_f(inst_coeff, 0)\n",
    "    \n",
    "    new_delta = delta_f(inst_coeff, market_move)\n",
    "    new_gamma = gamma_f(inst_coeff, market_move)\n",
    "\n",
    "    delta_pnl = b_delta * market_move\n",
    "    gamma_pnl = pnl_f(inst_coeff, market_move) - delta_pnl\n",
    "    \n",
    "    return {'current_delta': b_delta, 'current_gamma': b_gamma, 'new_delta': new_delta, 'new_gamma': new_gamma,\n",
    "            'delta_pnl': delta_pnl, 'gamma_pnl': gamma_pnl}"
   ]
  },
  {
   "cell_type": "markdown",
   "metadata": {},
   "source": [
    "Now imagine you have a live market data feed - you can plug that in for `market_moves` and get live risk on your book. You can also plug in any market move to predict pnl and risk for your book. \n",
    "\n",
    "Here I apply a flat 22bp move to all instruments but you can specify different moves for each instrument using the `market_moves` dictionary. As an example, I'll update O/N to 9bps and 10Y swap to 25."
   ]
  },
  {
   "cell_type": "code",
   "execution_count": 24,
   "metadata": {},
   "outputs": [],
   "source": [
    "# plug in move (bps) - flat accross all instruments or construct custom dictionary\n",
    "move = 22\n",
    "market_moves = dict(zip(delta.mkt_point.values, len(delta.mkt_point)*[move]))\n",
    "market_moves['O/N'] = 9\n",
    "market_moves['10Y'] = 25"
   ]
  },
  {
   "cell_type": "markdown",
   "metadata": {},
   "source": [
    "Let's now calculate estimated delta, gamma and pnl given these market moves."
   ]
  },
  {
   "cell_type": "code",
   "execution_count": 25,
   "metadata": {},
   "outputs": [
    {
     "data": {
      "text/html": [
       "<div>\n",
       "<style scoped>\n",
       "    .dataframe tbody tr th:only-of-type {\n",
       "        vertical-align: middle;\n",
       "    }\n",
       "\n",
       "    .dataframe tbody tr th {\n",
       "        vertical-align: top;\n",
       "    }\n",
       "\n",
       "    .dataframe thead th {\n",
       "        text-align: right;\n",
       "    }\n",
       "</style>\n",
       "<table border=\"1\" class=\"dataframe\">\n",
       "  <thead>\n",
       "    <tr style=\"text-align: right;\">\n",
       "      <th></th>\n",
       "      <th>current_delta</th>\n",
       "      <th>current_gamma</th>\n",
       "      <th>new_delta</th>\n",
       "      <th>new_gamma</th>\n",
       "      <th>delta_pnl</th>\n",
       "      <th>gamma_pnl</th>\n",
       "    </tr>\n",
       "    <tr>\n",
       "      <th>mkt_point</th>\n",
       "      <th></th>\n",
       "      <th></th>\n",
       "      <th></th>\n",
       "      <th></th>\n",
       "      <th></th>\n",
       "      <th></th>\n",
       "    </tr>\n",
       "  </thead>\n",
       "  <tbody>\n",
       "    <tr>\n",
       "      <th>O/N</th>\n",
       "      <td>-69.881709</td>\n",
       "      <td>0.040065</td>\n",
       "      <td>-70.306373</td>\n",
       "      <td>-0.133143</td>\n",
       "      <td>-628.935377</td>\n",
       "      <td>-0.742775</td>\n",
       "    </tr>\n",
       "    <tr>\n",
       "      <th>CASH STUB</th>\n",
       "      <td>-1155.410051</td>\n",
       "      <td>-450.968775</td>\n",
       "      <td>-10675.092828</td>\n",
       "      <td>-418.613276</td>\n",
       "      <td>-25419.021126</td>\n",
       "      <td>-106376.459182</td>\n",
       "    </tr>\n",
       "    <tr>\n",
       "      <th>JUN20</th>\n",
       "      <td>-3198.958126</td>\n",
       "      <td>-1352.429189</td>\n",
       "      <td>-31787.348638</td>\n",
       "      <td>-1230.087633</td>\n",
       "      <td>-70377.078769</td>\n",
       "      <td>-319716.680302</td>\n",
       "    </tr>\n",
       "  </tbody>\n",
       "</table>\n",
       "</div>"
      ],
      "text/plain": [
       "           current_delta  current_gamma     new_delta    new_gamma  \\\n",
       "mkt_point                                                            \n",
       "O/N           -69.881709       0.040065    -70.306373    -0.133143   \n",
       "CASH STUB   -1155.410051    -450.968775 -10675.092828  -418.613276   \n",
       "JUN20       -3198.958126   -1352.429189 -31787.348638 -1230.087633   \n",
       "\n",
       "              delta_pnl      gamma_pnl  \n",
       "mkt_point                               \n",
       "O/N         -628.935377      -0.742775  \n",
       "CASH STUB -25419.021126 -106376.459182  \n",
       "JUN20     -70377.078769 -319716.680302  "
      ]
     },
     "execution_count": 25,
     "metadata": {},
     "output_type": "execute_result"
    }
   ],
   "source": [
    "import pandas as pd \n",
    "\n",
    "# calculate values for all the instruments\n",
    "instruments = delta['mkt_point']\n",
    "results = pd.DataFrame([get_derived_values(coeffs[delta[delta['mkt_point'] == instrument].index[0]], \n",
    "                              market_moves[instrument]) for instrument in list(instruments)])\n",
    "results.index = instruments\n",
    "results.head(3)"
   ]
  },
  {
   "cell_type": "markdown",
   "metadata": {},
   "source": [
    "We now have delta, gamma and delta given a specified move in each instrument. Current delta and gamma are values for the current portfolio and new delta and gamma are values after the market move is applied.\n",
    "\n",
    "Now to better understand the results, let's examine them visually! Note all of these values are approximations and may differ from actual performance and risk for the book."
   ]
  },
  {
   "cell_type": "code",
   "execution_count": 26,
   "metadata": {},
   "outputs": [
    {
     "data": {
      "text/plain": [
       "<matplotlib.axes._subplots.AxesSubplot at 0x11d87160>"
      ]
     },
     "execution_count": 26,
     "metadata": {},
     "output_type": "execute_result"
    },
    {
     "data": {
      "image/png": "[encoded data removed]",
      "text/plain": [
       "<Figure size 720x360 with 1 Axes>"
      ]
     },
     "metadata": {
      "needs_background": "light"
     },
     "output_type": "display_data"
    }
   ],
   "source": [
    "results[['delta_pnl', 'gamma_pnl']].plot(kind='bar', stacked=True, title='Gamma and Delta PnL given a {}bp move'.format(move), figsize=(10, 5))"
   ]
  },
  {
   "cell_type": "code",
   "execution_count": 27,
   "metadata": {},
   "outputs": [
    {
     "data": {
      "text/plain": [
       "<matplotlib.axes._subplots.AxesSubplot at 0x122aa198>"
      ]
     },
     "execution_count": 27,
     "metadata": {},
     "output_type": "execute_result"
    },
    {
     "data": {
      "image/png": "[encoded data removed]",
      "text/plain": [
       "<Figure size 720x432 with 1 Axes>"
      ]
     },
     "metadata": {
      "needs_background": "light"
     },
     "output_type": "display_data"
    }
   ],
   "source": [
    "risk_changes = pd.DataFrame([results.new_delta - results.current_delta, results.new_gamma - results.current_gamma]).T\n",
    "risk_changes.columns = ['delta change', 'gamma change']\n",
    "risk_changes.plot(kind='bar', stacked=True, figsize=(10, 6), title='Risk changes given a {}bp move'.format(move))"
   ]
  },
  {
   "cell_type": "markdown",
   "metadata": {},
   "source": [
    "Please reach out with your thoughts and feedback!"
   ]
  },
  {
   "cell_type": "markdown",
   "metadata": {},
   "source": [
    "### What's New\n",
    "\n",
    "* New `IRXccySwapFixFlt` and `IRXccySwapFixFix` instruments (`from gs_quant.instruments import IRXccySwapFixFlt, IRXccySwapFixFix`)\n",
    "* Improved error handling\n",
    "* Improved computational efficiency - see `4-Delta Hedging` for examples"
   ]
  }
 ],
 "metadata": {
  "kernelspec": {
   "display_name": "Python 3",
   "language": "python",
   "name": "python3"
  },
  "language_info": {
   "codemirror_mode": {
    "name": "ipython",
    "version": 3
   },
   "file_extension": ".py",
   "mimetype": "text/x-python",
   "name": "python",
   "nbconvert_exporter": "python",
   "pygments_lexer": "ipython3",
   "version": "3.7.2"
  }
 },
 "nbformat": 4,
 "nbformat_minor": 4
}
