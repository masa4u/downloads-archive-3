{
 "cells": [
  {
   "cell_type": "markdown",
   "metadata": {},
   "source": [
    "## Delta Hedging\n",
    "\n",
    "### Summary \n",
    "\n",
    "Being short volatility hasn't been profitable in this period of extreme implied and realized volatility movements but may be an interesting entry point for some. \n",
    "\n",
    "In this note I take a further look at this strategy and extend it with delta hedging to understand how it can impact performance.\n",
    "\n",
    "Each day I sell a 1m10y straddle (like last time) - but this time I also trade a swap with a matched effective date and termination date to hedge my delta. Each day I unwind the previous day's swap and trade into a new one.\n",
    "\n",
    "I examine premium collected at inception, payout on option expiry and mark-to-market over the life of the trade to compare the two strategies.\n",
    "\n",
    "Look out for future publications where I will build on this analysis further by adding transaction costs and analyzing performance accross strategies.\n",
    "\n",
    "The content of this notebook is split into:\n",
    "* [1 - Let's get started with gs quant](#1---Let's-get-started-with-gs-quant)\n",
    "* [2 - Create portfolio](#2---Create-portfolio)\n",
    "* [3 - Grab the data](#3---Grab-the-data)\n",
    "* [4 - Putting it all together](#4---Putting-it-all-together)"
   ]
  },
  {
   "cell_type": "markdown",
   "metadata": {},
   "source": [
    "### 1 - Let's get started with gs quant\n",
    "Start every session with authenticating with your unique client id and secret. If you don't have a registered app, create one [here](https://marquee.gs.com/s/developer/myapps/register). `run_analytics` scope is required for the functionality covered in this example. Below produced using gs-quant version 0.8.108."
   ]
  },
  {
   "cell_type": "code",
   "execution_count": 1,
   "metadata": {},
   "outputs": [],
   "source": [
    "from gs_quant.session import GsSession\n",
    "GsSession.use(client_id=None, client_secret=None, scopes=('run_analytics',))\n",
    "\n",
    "use_batch = True"
   ]
  },
  {
   "cell_type": "markdown",
   "metadata": {},
   "source": [
    "### 2 - Create portfolio\n",
    "Just like in our last analysis, let's start by creating a portfolio with a rolling strip of straddles. For each date in our date range (start of 2019 through today), we will construct a 1m10y straddle and include it in our portfolio."
   ]
  },
  {
   "cell_type": "code",
   "execution_count": 2,
   "metadata": {},
   "outputs": [
    {
     "name": "stdout",
     "output_type": "stream",
     "text": [
      "100%|██████████████████████████████████████████████████████████████████████████████████████████| 545/545 [00:54<00:00,  9.93it/s]\n"
     ]
    }
   ],
   "source": [
    "from gs_quant.markets import HistoricalPricingContext, PricingContext\n",
    "from gs_quant.markets.portfolio import Portfolio\n",
    "from gs_quant.common import Currency, PayReceive\n",
    "from gs_quant.instrument import IRSwaption\n",
    "import datetime as dt\n",
    "\n",
    "start_date = dt.datetime(2019, 1, 1).date()\n",
    "end_date = dt.datetime.today().date()\n",
    "\n",
    "# create and resolve a new straddle on every day of the pricing context\n",
    "with HistoricalPricingContext(start=start_date, end=end_date, show_progress=True): \n",
    "    f = IRSwaption(PayReceive.Straddle, '10y', Currency.USD, expiration_date='1m', \n",
    "                   notional_amount=1e8, buy_sell='Sell').resolve(in_place=False)\n",
    "\n",
    "# put resulting swaptions in a portfolio\n",
    "result = f.result().items()\n",
    "portfolio = Portfolio([v[1] for v in sorted(result)])"
   ]
  },
  {
   "cell_type": "markdown",
   "metadata": {},
   "source": [
    "I will now convert the portfolio to a dataframe, extend it with trade dates and remove any instruments with a premium payment date after today."
   ]
  },
  {
   "cell_type": "code",
   "execution_count": 3,
   "metadata": {},
   "outputs": [
    {
     "data": {
      "text/html": [
       "<div>\n",
       "<style scoped>\n",
       "    .dataframe tbody tr th:only-of-type {\n",
       "        vertical-align: middle;\n",
       "    }\n",
       "\n",
       "    .dataframe tbody tr th {\n",
       "        vertical-align: top;\n",
       "    }\n",
       "\n",
       "    .dataframe thead th {\n",
       "        text-align: right;\n",
       "    }\n",
       "</style>\n",
       "<table border=\"1\" class=\"dataframe\">\n",
       "  <thead>\n",
       "    <tr style=\"text-align: right;\">\n",
       "      <th></th>\n",
       "      <th>asset_class</th>\n",
       "      <th>type</th>\n",
       "      <th>buy_sell</th>\n",
       "      <th>clearing_house</th>\n",
       "      <th>effective_date</th>\n",
       "      <th>expiration_date</th>\n",
       "      <th>fee</th>\n",
       "      <th>fee_currency</th>\n",
       "      <th>fee_payment_date</th>\n",
       "      <th>fixed_rate_business_day_convention</th>\n",
       "      <th>...</th>\n",
       "      <th>floating_rate_spread</th>\n",
       "      <th>notional_amount</th>\n",
       "      <th>notional_currency</th>\n",
       "      <th>pay_or_receive</th>\n",
       "      <th>premium</th>\n",
       "      <th>premium_payment_date</th>\n",
       "      <th>settlement</th>\n",
       "      <th>strike</th>\n",
       "      <th>termination_date</th>\n",
       "      <th>trade_date</th>\n",
       "    </tr>\n",
       "    <tr>\n",
       "      <th>instrument</th>\n",
       "      <th></th>\n",
       "      <th></th>\n",
       "      <th></th>\n",
       "      <th></th>\n",
       "      <th></th>\n",
       "      <th></th>\n",
       "      <th></th>\n",
       "      <th></th>\n",
       "      <th></th>\n",
       "      <th></th>\n",
       "      <th></th>\n",
       "      <th></th>\n",
       "      <th></th>\n",
       "      <th></th>\n",
       "      <th></th>\n",
       "      <th></th>\n",
       "      <th></th>\n",
       "      <th></th>\n",
       "      <th></th>\n",
       "      <th></th>\n",
       "      <th></th>\n",
       "    </tr>\n",
       "  </thead>\n",
       "  <tbody>\n",
       "    <tr>\n",
       "      <th>&lt;gs_quant.target.instrument.IRSwaption object at 0x000001B3F14C9AC8&gt;</th>\n",
       "      <td>AssetClass.Rates</td>\n",
       "      <td>AssetType.Swaption</td>\n",
       "      <td>BuySell.Sell</td>\n",
       "      <td>SwapClearingHouse.LCH</td>\n",
       "      <td>2019-02-05</td>\n",
       "      <td>2019-02-01</td>\n",
       "      <td>0.0</td>\n",
       "      <td>Currency.USD</td>\n",
       "      <td>2019-01-03</td>\n",
       "      <td>BusinessDayConvention.Modified_Following</td>\n",
       "      <td>...</td>\n",
       "      <td>0.0</td>\n",
       "      <td>100000000.0</td>\n",
       "      <td>Currency.USD</td>\n",
       "      <td>Straddle</td>\n",
       "      <td>0.0</td>\n",
       "      <td>2019-01-03</td>\n",
       "      <td>SwapSettlement.Phys_CLEARED</td>\n",
       "      <td>0.027521</td>\n",
       "      <td>2029-02-05</td>\n",
       "      <td>2019-01-01</td>\n",
       "    </tr>\n",
       "    <tr>\n",
       "      <th>&lt;gs_quant.target.instrument.IRSwaption object at 0x000001B3F14CD708&gt;</th>\n",
       "      <td>AssetClass.Rates</td>\n",
       "      <td>AssetType.Swaption</td>\n",
       "      <td>BuySell.Sell</td>\n",
       "      <td>SwapClearingHouse.LCH</td>\n",
       "      <td>2019-02-06</td>\n",
       "      <td>2019-02-04</td>\n",
       "      <td>0.0</td>\n",
       "      <td>Currency.USD</td>\n",
       "      <td>2019-01-04</td>\n",
       "      <td>BusinessDayConvention.Modified_Following</td>\n",
       "      <td>...</td>\n",
       "      <td>0.0</td>\n",
       "      <td>100000000.0</td>\n",
       "      <td>Currency.USD</td>\n",
       "      <td>Straddle</td>\n",
       "      <td>0.0</td>\n",
       "      <td>2019-01-04</td>\n",
       "      <td>SwapSettlement.Phys_CLEARED</td>\n",
       "      <td>0.027023</td>\n",
       "      <td>2029-02-06</td>\n",
       "      <td>2019-01-02</td>\n",
       "    </tr>\n",
       "  </tbody>\n",
       "</table>\n",
       "<p>2 rows × 27 columns</p>\n",
       "</div>"
      ],
      "text/plain": [
       "                                                         asset_class  \\\n",
       "instrument                                                             \n",
       "<gs_quant.target.instrument.IRSwaption object a...  AssetClass.Rates   \n",
       "<gs_quant.target.instrument.IRSwaption object a...  AssetClass.Rates   \n",
       "\n",
       "                                                                  type  \\\n",
       "instrument                                                               \n",
       "<gs_quant.target.instrument.IRSwaption object a...  AssetType.Swaption   \n",
       "<gs_quant.target.instrument.IRSwaption object a...  AssetType.Swaption   \n",
       "\n",
       "                                                        buy_sell  \\\n",
       "instrument                                                         \n",
       "<gs_quant.target.instrument.IRSwaption object a...  BuySell.Sell   \n",
       "<gs_quant.target.instrument.IRSwaption object a...  BuySell.Sell   \n",
       "\n",
       "                                                           clearing_house  \\\n",
       "instrument                                                                  \n",
       "<gs_quant.target.instrument.IRSwaption object a...  SwapClearingHouse.LCH   \n",
       "<gs_quant.target.instrument.IRSwaption object a...  SwapClearingHouse.LCH   \n",
       "\n",
       "                                                   effective_date  \\\n",
       "instrument                                                          \n",
       "<gs_quant.target.instrument.IRSwaption object a...     2019-02-05   \n",
       "<gs_quant.target.instrument.IRSwaption object a...     2019-02-06   \n",
       "\n",
       "                                                   expiration_date  fee  \\\n",
       "instrument                                                                \n",
       "<gs_quant.target.instrument.IRSwaption object a...      2019-02-01  0.0   \n",
       "<gs_quant.target.instrument.IRSwaption object a...      2019-02-04  0.0   \n",
       "\n",
       "                                                    fee_currency  \\\n",
       "instrument                                                         \n",
       "<gs_quant.target.instrument.IRSwaption object a...  Currency.USD   \n",
       "<gs_quant.target.instrument.IRSwaption object a...  Currency.USD   \n",
       "\n",
       "                                                   fee_payment_date  \\\n",
       "instrument                                                            \n",
       "<gs_quant.target.instrument.IRSwaption object a...       2019-01-03   \n",
       "<gs_quant.target.instrument.IRSwaption object a...       2019-01-04   \n",
       "\n",
       "                                                          fixed_rate_business_day_convention  \\\n",
       "instrument                                                                                     \n",
       "<gs_quant.target.instrument.IRSwaption object a...  BusinessDayConvention.Modified_Following   \n",
       "<gs_quant.target.instrument.IRSwaption object a...  BusinessDayConvention.Modified_Following   \n",
       "\n",
       "                                                    ... floating_rate_spread  \\\n",
       "instrument                                          ...                        \n",
       "<gs_quant.target.instrument.IRSwaption object a...  ...                  0.0   \n",
       "<gs_quant.target.instrument.IRSwaption object a...  ...                  0.0   \n",
       "\n",
       "                                                   notional_amount  \\\n",
       "instrument                                                           \n",
       "<gs_quant.target.instrument.IRSwaption object a...     100000000.0   \n",
       "<gs_quant.target.instrument.IRSwaption object a...     100000000.0   \n",
       "\n",
       "                                                   notional_currency  \\\n",
       "instrument                                                             \n",
       "<gs_quant.target.instrument.IRSwaption object a...      Currency.USD   \n",
       "<gs_quant.target.instrument.IRSwaption object a...      Currency.USD   \n",
       "\n",
       "                                                   pay_or_receive premium  \\\n",
       "instrument                                                                  \n",
       "<gs_quant.target.instrument.IRSwaption object a...       Straddle     0.0   \n",
       "<gs_quant.target.instrument.IRSwaption object a...       Straddle     0.0   \n",
       "\n",
       "                                                   premium_payment_date  \\\n",
       "instrument                                                                \n",
       "<gs_quant.target.instrument.IRSwaption object a...           2019-01-03   \n",
       "<gs_quant.target.instrument.IRSwaption object a...           2019-01-04   \n",
       "\n",
       "                                                                     settlement  \\\n",
       "instrument                                                                        \n",
       "<gs_quant.target.instrument.IRSwaption object a...  SwapSettlement.Phys_CLEARED   \n",
       "<gs_quant.target.instrument.IRSwaption object a...  SwapSettlement.Phys_CLEARED   \n",
       "\n",
       "                                                      strike  \\\n",
       "instrument                                                     \n",
       "<gs_quant.target.instrument.IRSwaption object a...  0.027521   \n",
       "<gs_quant.target.instrument.IRSwaption object a...  0.027023   \n",
       "\n",
       "                                                    termination_date  \\\n",
       "instrument                                                             \n",
       "<gs_quant.target.instrument.IRSwaption object a...        2029-02-05   \n",
       "<gs_quant.target.instrument.IRSwaption object a...        2029-02-06   \n",
       "\n",
       "                                                    trade_date  \n",
       "instrument                                                      \n",
       "<gs_quant.target.instrument.IRSwaption object a...  2019-01-01  \n",
       "<gs_quant.target.instrument.IRSwaption object a...  2019-01-02  \n",
       "\n",
       "[2 rows x 27 columns]"
      ]
     },
     "execution_count": 3,
     "metadata": {},
     "output_type": "execute_result"
    }
   ],
   "source": [
    "frame = portfolio.to_frame()\n",
    "frame.index = frame.index.droplevel(0)\n",
    "\n",
    "# extend dataframe with trade dates\n",
    "trade_dates = {value:key for key, value in result}\n",
    "frame['trade_date'] = frame.apply(lambda x: trade_dates[x.name], axis=1)\n",
    "\n",
    "# filter any swaptions with premium date larger than today\n",
    "frame = frame[frame.premium_payment_date < dt.datetime.today().date()]\n",
    "frame.head(2)"
   ]
  },
  {
   "cell_type": "markdown",
   "metadata": {},
   "source": [
    "### 3 - Grab the Data\n",
    "\n",
    "Now the fun part - we need to calculate a lot of datapoints for this backtest. \n",
    "\n",
    "For each straddle, we need to define a new swap every day and price it the following day when we unwind it. This means about 36,000 points (~300 instruments * 30 days * 4 measures (swaption price, swaption delta, swap price, swap delta)).\n",
    "\n",
    "Like last time I will compute as much as I can asyncrously and keep track of the futures for each measure. \n",
    "\n",
    "Introducing a high-level `PricingContext` to batch requests can improve speed as well. Note just using `PricingContext` will improve speed but `batch=True` can  add efficiency.\n",
    "\n",
    "To learn more about async and other compute controls and how to use them, please see our [pricing context guide](https://developer.gs.com/docs/gsquant/guides/Pricing-and-Risk/pricing-context/). "
   ]
  },
  {
   "cell_type": "markdown",
   "metadata": {},
   "source": [
    "I'll start by getting the prices and delta for the swaptions first."
   ]
  },
  {
   "cell_type": "code",
   "execution_count": 4,
   "metadata": {},
   "outputs": [
    {
     "name": "stdout",
     "output_type": "stream",
     "text": [
      "100%|██████████████████████████████████████████████████████████████████████████████████████| 24676/24676 [05:46<00:00, 71.25it/s]\n"
     ]
    }
   ],
   "source": [
    "from gs_quant.risk import IRDeltaParallel\n",
    "\n",
    "# insert columns in our frame to track the futures\n",
    "frame['so_price_f'] = len(frame) * [None]\n",
    "frame['so_delta_f'] = len(frame) * [None]\n",
    "\n",
    "with PricingContext(is_batch=use_batch, show_progress=True):\n",
    "    for inst, row in frame.iterrows():\n",
    "        with HistoricalPricingContext(start=row.trade_date, \n",
    "                                      end=min(row.expiration_date, dt.datetime.today().date()), \n",
    "                                      is_async=True):\n",
    "            so_price = inst.price()\n",
    "            so_delta = inst.calc(IRDeltaParallel)        \n",
    "\n",
    "        frame.at[inst, 'so_price_f'] = so_price\n",
    "        frame.at[inst, 'so_delta_f'] = so_delta"
   ]
  },
  {
   "cell_type": "markdown",
   "metadata": {},
   "source": [
    "Easy enough. I will now do the same for the swaps which I will use to delta hedge. Note instead of pricing the same already resolved swaption each day, here I create and price a new swap each day which will reflect that's day's ATM rate and matches the effective date and termination date of the corresponding swaption."
   ]
  },
  {
   "cell_type": "code",
   "execution_count": 5,
   "metadata": {},
   "outputs": [
    {
     "name": "stdout",
     "output_type": "stream",
     "text": [
      "100%|██████████████████████████████████████████████████████████████████████████████████████| 16170/16170 [03:23<00:00, 79.48it/s]\n"
     ]
    }
   ],
   "source": [
    "from gs_quant.instrument import IRSwap\n",
    "\n",
    "# insert columns in our frame to track the futures\n",
    "frame['s_f'] = len(frame) * [None]\n",
    "frame['s_delta_f'] = len(frame) * [None]\n",
    "\n",
    "with PricingContext(is_batch=use_batch, show_progress=True):\n",
    "    for inst, row in frame.iterrows():\n",
    "        swap = IRSwap(PayReceive.Pay, row.termination_date, Currency.USD, \n",
    "                      effective_date=row.effective_date, fixed_rate='ATMF', notional_amount=1e8)\n",
    "\n",
    "        with HistoricalPricingContext(start=row.trade_date, \n",
    "                                      end=min(row.expiration_date, dt.datetime.today().date()), \n",
    "                                      is_async=True):\n",
    "            # track the resolved swap - we will need to price it when we unwind following day\n",
    "            s = swap.resolve(in_place=False)\n",
    "            s_delta = swap.calc(IRDeltaParallel)\n",
    "\n",
    "        frame.at[inst, 's_f'] = s\n",
    "        frame.at[inst, 's_delta_f'] = s_delta"
   ]
  },
  {
   "cell_type": "markdown",
   "metadata": {},
   "source": [
    "In the above request, we created a new resolved swaption for each day but we still need to price it the following day when we unwind it. In the below, I collect the resolved swaps from the previous request and price lagged 1 day - that is, the following day."
   ]
  },
  {
   "cell_type": "code",
   "execution_count": 6,
   "metadata": {},
   "outputs": [
    {
     "name": "stdout",
     "output_type": "stream",
     "text": [
      "100%|███████████████████████████████████████████████████████████████████████████████████████| 8074/8074 [00:26<00:00, 302.06it/s]\n"
     ]
    }
   ],
   "source": [
    "from gs_quant.markets import PricingContext\n",
    "import pandas as pd\n",
    "\n",
    "swaps = pd.concat([pd.Series(row.s_f.result(), name=row.name) for _, row in frame.iterrows()], \n",
    "                      axis=1, sort=True).shift(periods=1)\n",
    "g = {}\n",
    "\n",
    "with PricingContext(is_batch=use_batch, show_progress=True):\n",
    "    for date, row in swaps.iterrows():\n",
    "        with PricingContext(date, is_async=True):\n",
    "            prices = {k: p if isinstance(p, float) else p.price() for k, p in row.iteritems()}\n",
    "        g[date] = prices\n",
    "        \n",
    "swap_prices = pd.DataFrame(g).T"
   ]
  },
  {
   "cell_type": "markdown",
   "metadata": {},
   "source": [
    "Finally, let's collect all the points and do some arithmetic to create a timeseries for each swaption. I will create two frames - one for the simple vol selling strategy and one taking into account the changing delta hedge."
   ]
  },
  {
   "cell_type": "code",
   "execution_count": 103,
   "metadata": {},
   "outputs": [],
   "source": [
    "from gs_quant.timeseries import *\n",
    "\n",
    "not_delta_hedged = []\n",
    "delta_hedged = []\n",
    "\n",
    "for inst, row in frame.iterrows():\n",
    "    # collect all the results\n",
    "    total_result = pd.concat([row.so_price_f.result(), row.so_delta_f.result(), \n",
    "                              pd.Series({k: v.result() for k, v in swap_prices[inst].iteritems() \n",
    "                                         if not isinstance(v, float)}), \n",
    "                              row.s_delta_f.result()], axis=1, sort=True)\n",
    "    total_result.columns = ['swaption_prices', 'swaption_delta', 'swap_bought_prices', 'swap_sold_delta']\n",
    "    \n",
    "    # today's hedge notional will be the ratio of prior day's swaption/swap delta ratio - that's\n",
    "    # how much of the swap we bought to hedge so will use it to scale unwind PV of the swap today\n",
    "    total_result['hedge_notional'] = -(total_result.swaption_delta/total_result.swap_sold_delta).shift(periods=1)\n",
    "    total_result = total_result.fillna(0)\n",
    "    \n",
    "    # scale the umwind PV of prior day's swap hedge\n",
    "    total_result['swap_pos'] = total_result['hedge_notional'] * total_result['swap_bought_prices']\n",
    "    \n",
    "    # add to swaption price to get total performance cutting off last time due to the lag\n",
    "    swaption_pl = diff(total_result['swaption_prices'], 1).fillna(0)\n",
    "    total_result['total_pv'] = swaption_pl + total_result['swap_pos']\n",
    "    \n",
    "    not_delta_hedged.append(pd.Series(swaption_pl[:-1], name=inst))\n",
    "    delta_hedged.append(pd.Series(total_result['total_pv'][:-1], name=inst))"
   ]
  },
  {
   "cell_type": "markdown",
   "metadata": {},
   "source": [
    "### 4 - Putting it all together\n",
    "Now, let's combine all the results to look at the impact delta hedging makes on the strategy. Unsurprisingly, the delta hedged version provides protection to tail events like March 2020."
   ]
  },
  {
   "cell_type": "code",
   "execution_count": 104,
   "metadata": {},
   "outputs": [],
   "source": [
    "not_dh = pd.concat(not_delta_hedged, axis=1, sort=True).fillna(0).sum(axis=1).cumsum()\n",
    "dh = pd.concat(delta_hedged, axis=1, sort=True).fillna(0).sum(axis=1).cumsum()"
   ]
  },
  {
   "cell_type": "code",
   "execution_count": 105,
   "metadata": {},
   "outputs": [
    {
     "data": {
      "text/plain": [
       "<matplotlib.axes._subplots.AxesSubplot at 0x229b0a33288>"
      ]
     },
     "execution_count": 105,
     "metadata": {},
     "output_type": "execute_result"
    },
    {
     "data": {
      "image/png": "[encoded data removed]",
      "text/plain": [
       "<Figure size 720x432 with 1 Axes>"
      ]
     },
     "metadata": {
      "needs_background": "light"
     },
     "output_type": "display_data"
    }
   ],
   "source": [
    "comp = pd.DataFrame([dh, not_dh]).T\n",
    "comp.columns = ['Delta Hedged', 'Not Delta Hedged']\n",
    "comp.plot(figsize=(10, 6), title='Hedged vs Not Hedged')"
   ]
  },
  {
   "cell_type": "markdown",
   "metadata": {},
   "source": [
    "Note that this backtesting doesn't include transaction costs and the implementation is different from how one might hedge in practice (unwinding and trading a new swap every day) but is economically equivalent to layering the hedges (and is cleaner from a calculation perspective).\n",
    "\n",
    "Look out for future publications for added transaction costs and ways to quantitatively compare these strategies."
   ]
  }
 ],
 "metadata": {
  "kernelspec": {
   "display_name": "Python 3",
   "language": "python",
   "name": "python3"
  },
  "language_info": {
   "codemirror_mode": {
    "name": "ipython",
    "version": 3
   },
   "file_extension": ".py",
   "mimetype": "text/x-python",
   "name": "python",
   "nbconvert_exporter": "python",
   "pygments_lexer": "ipython3",
   "version": "3.7.4"
  }
 },
 "nbformat": 4,
 "nbformat_minor": 4
}
