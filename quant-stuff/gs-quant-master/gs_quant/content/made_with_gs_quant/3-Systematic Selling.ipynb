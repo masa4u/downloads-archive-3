{
 "cells": [
  {
   "cell_type": "markdown",
   "metadata": {},
   "source": [
    "## Systematic Selling\n",
    "\n",
    "### Summary \n",
    "\n",
    "In this note I look at running a simple backtest where I sell a 1m10y straddle each day. I examine premium collected at inception, payout on option expiry and mark-to-market over the life of the trade. \n",
    "\n",
    "Look out for future publications where I will build on this strategy with added delta hedging and add analytics for understanding strategy performance!\n",
    "\n",
    "The content of this notebook is split into:\n",
    "* [1 - Let's get started with gs quant](#1---Let's-get-started-with-gs-quant)\n",
    "* [2 - Create portfolio](#2---Create-portfolio)\n",
    "* [3 - Evaluate portfolio historically](#3---Evaluate-portfolio-historically)\n",
    "* [4 - Putting it all together](#4---Putting-it-all-together)\n",
    "\n",
    "Note, since this notebook was released, we have built a generic backtesting framework to support the same flexibility with significantly less code. See [how you can achieve the same results using this framework at the end of the notebook](#Generic-backtesting-framework)."
   ]
  },
  {
   "cell_type": "markdown",
   "metadata": {},
   "source": [
    "### 1 - Let's get started with gs quant\n",
    "Start every session with authenticating with your unique client id and secret. If you don't have a registered app, create one [here](https://marquee.gs.com/s/developer/myapps/register). `run_analytics` scope is required for the functionality covered in this example. Below produced using gs-quant version 0.8.102."
   ]
  },
  {
   "cell_type": "code",
   "execution_count": null,
   "metadata": {},
   "outputs": [],
   "source": [
    "from gs_quant.session import GsSession\n",
    "GsSession.use(client_id=None, client_secret=None, scopes=('run_analytics',)) "
   ]
  },
  {
   "cell_type": "markdown",
   "metadata": {},
   "source": [
    "### 2 - Create portfolio\n",
    "Let's create a portfolio with a rolling strip of straddles. For each date in our date range (start of 2019 through today), we will construct a 1m10y straddle and include it in our portfolio."
   ]
  },
  {
   "cell_type": "code",
   "execution_count": null,
   "metadata": {},
   "outputs": [],
   "source": [
    "from gs_quant.markets.portfolio import Portfolio\n",
    "from gs_quant.common import Currency, PayReceive\n",
    "from gs_quant.instrument import IRSwaption\n",
    "from gs_quant.markets import HistoricalPricingContext, PricingContext\n",
    "from datetime import datetime, date\n",
    "\n",
    "start_date = date(2020, 1, 1)\n",
    "end_date = datetime.today().date()\n",
    "with HistoricalPricingContext(start=start_date, end=end_date, show_progress=True): \n",
    "    f = IRSwaption(PayReceive.Straddle, '10y', Currency.USD, expiration_date='1m', notional_amount=1e8,\n",
    "                   buy_sell='Sell').resolve(in_place=False)\n",
    "\n",
    "# put resulting swaptions in a portfolio\n",
    "result = f.result().items()\n",
    "portfolio = Portfolio([v[1] for v in sorted(result)])"
   ]
  },
  {
   "cell_type": "markdown",
   "metadata": {},
   "source": [
    "We can use `to_frame` to take a look at our portfolio and resolved instrument details as a dataframe. Let's remove any instruments with premium_payment_date larger than today."
   ]
  },
  {
   "cell_type": "code",
   "execution_count": null,
   "metadata": {},
   "outputs": [],
   "source": [
    "frame = portfolio.to_frame()\n",
    "frame.index = frame.index.droplevel(0)\n",
    "\n",
    "# extend dataframe with trade dates\n",
    "trade_dates = {value:key for key, value in result}\n",
    "frame['trade_date'] = frame.apply(lambda x: trade_dates[x.name], axis=1)\n",
    "\n",
    "frame = frame[frame.premium_payment_date < datetime.today().date()]\n",
    "frame.head(3)"
   ]
  },
  {
   "cell_type": "markdown",
   "metadata": {},
   "source": [
    "### 3 - Evaluate portfolio historically\n",
    "Let's now evaluate each instrument for the relevant date range (inception to option expiry).\n",
    "\n",
    "Note that I use the async flag in pricing context - this is what makes computing 9000 points so fast (~300 instruments * ~30 days)! It sends off a request for 1 month of data for each instrument to be computed in parallel. I keep track of each future in our portfolio frame.\n",
    "\n",
    "To learn more about async and other compute controls and how to use them, please see our [pricing context guide](https://developer.gs.com/docs/gsquant/guides/Pricing-and-Risk/pricing-context/). "
   ]
  },
  {
   "cell_type": "code",
   "execution_count": null,
   "metadata": {},
   "outputs": [],
   "source": [
    "frame['future'] = len(frame) * [None]\n",
    "\n",
    "with PricingContext(is_batch=True, show_progress=True):\n",
    "    for inst, row in frame.iterrows():\n",
    "        with HistoricalPricingContext(start=row.trade_date, \n",
    "                                      end=min(row.expiration_date, datetime.today().date()),\n",
    "                                      is_async=True):\n",
    "            pv = inst.price()\n",
    "        frame.at[inst, 'future'] = pv"
   ]
  },
  {
   "cell_type": "markdown",
   "metadata": {},
   "source": [
    "We can now grab all the results and organize them into a dataframe. This call will wait for all the results to come back from the pool so it's as fast as the slowest single request out of the ~300 we sent in the previous step."
   ]
  },
  {
   "cell_type": "code",
   "execution_count": null,
   "metadata": {},
   "outputs": [],
   "source": [
    "import pandas as pd\n",
    "\n",
    "timeseries = pd.concat([pd.Series(row.future.result(), name=row.name) for _, row in frame.iterrows()], axis=1, sort=True)"
   ]
  },
  {
   "cell_type": "markdown",
   "metadata": {},
   "source": [
    "### 4 - Putting it all together\n",
    "With the portfolio and historical PV's in hand, let's comb through the data to tease out components we want to track: premium collected, payout on expiry and mark-to-mark of the swaption."
   ]
  },
  {
   "cell_type": "code",
   "execution_count": null,
   "metadata": {},
   "outputs": [],
   "source": [
    "import matplotlib.pyplot as plt\n",
    "from collections import defaultdict\n",
    "from gs_quant.datetime import business_day_offset\n",
    "\n",
    "def get_p(df, first=True):\n",
    "    p_p = df.apply(lambda series: series.first_valid_index() if first else series.last_valid_index())\n",
    "    g = defaultdict(float)\n",
    "    for i, r in p_p.items():\n",
    "        g[r]+=df[i][r]\n",
    "    return pd.Series(g)\n",
    "\n",
    "premia = get_p(timeseries)\n",
    "payoffs = get_p(timeseries, first=False).reindex(timeseries.index).fillna(0)\n",
    "mtm = timeseries.fillna(0).sum(axis=1)-payoffs\n",
    "\n",
    "overview = pd.concat([premia.cumsum(), payoffs.cumsum(), mtm], axis=1, sort=False)\n",
    "overview.columns = ['Premium Received at Inception', 'Paid at Expiry', 'Mark to Market']\n",
    "overview = overview.sort_index()\n",
    "overview = overview.fillna(method='ffill')[:business_day_offset(datetime.today().date(), -2)]\n",
    "\n",
    "overview.plot(figsize=(12, 8), title='Cumulative Payoff, Premium and Mark-to-Market')"
   ]
  },
  {
   "cell_type": "markdown",
   "metadata": {},
   "source": [
    "From the above, we can see that premium received at inception varies relative to payout at expiry. We can see when this is the case more clearly by looking at the difference between the two."
   ]
  },
  {
   "cell_type": "code",
   "execution_count": null,
   "metadata": {},
   "outputs": [],
   "source": [
    "(overview['Paid at Expiry'] - overview['Premium Received at Inception']).plot(figsize=(12, 8), title='Realized Performance')"
   ]
  },
  {
   "cell_type": "markdown",
   "metadata": {},
   "source": [
    "But looking at only premium collected and amount paid out doesn't speak to the volatility of this strategy - let's add mark-to-market in to see that. "
   ]
  },
  {
   "cell_type": "code",
   "execution_count": null,
   "metadata": {},
   "outputs": [],
   "source": [
    "(overview['Paid at Expiry'] - overview['Premium Received at Inception'] + \n",
    " overview['Mark to Market']).plot(figsize=(12, 8), title='Performance Including Mark to Market')"
   ]
  },
  {
   "cell_type": "markdown",
   "metadata": {},
   "source": [
    "As we can see above, since beginning of 2019 this has mostly been a losing strategy although it has worked well 4Q19.\n",
    "\n",
    "Stay tuned to futher editions of gs quant for ways to modify this strategy (delta hedging, for example) and to analyze performance of strategies like this one."
   ]
  },
  {
   "cell_type": "markdown",
   "metadata": {},
   "source": [
    "### Generic Backtesting Framework"
   ]
  },
  {
   "cell_type": "code",
   "execution_count": null,
   "metadata": {},
   "outputs": [],
   "source": [
    "from gs_quant.backtests.triggers import PeriodicTrigger, PeriodicTriggerRequirements\n",
    "from gs_quant.backtests.actions import AddTradeAction, HedgeAction\n",
    "from gs_quant.backtests.generic_engine import GenericEngine\n",
    "from gs_quant.backtests.strategy import Strategy\n",
    "\n",
    "# dates on which actions will be triggered\n",
    "trig_req = PeriodicTriggerRequirements(start_date=start_date, end_date=end_date, frequency='B')\n",
    "\n",
    "# instrument that will be added on AddTradeAction\n",
    "irswaption = IRSwaption(PayReceive.Straddle, '10y', Currency.USD, expiration_date='1m', notional_amount=1e8,\n",
    "                        buy_sell='Sell', name='1m10y')\n",
    "actions = AddTradeAction(irswaption, 'expiration_date')\n",
    "\n",
    "# starting with empty portfolio (first arg to Strategy), apply actions on trig_req\n",
    "triggers = PeriodicTrigger(trig_req, actions)\n",
    "strategy = Strategy(None, triggers)\n",
    "\n",
    "# run backtest\n",
    "GE = GenericEngine()\n",
    "backtest = GE.run_backtest(strategy, start=start_date, end=end_date, frequency='B', show_progress=True)"
   ]
  },
  {
   "cell_type": "code",
   "execution_count": null,
   "metadata": {},
   "outputs": [],
   "source": [
    "# parse the results into payoff, premium and mark to market and plot like we did above\n",
    "results = backtest.results\n",
    "g_premia, g_payoff, g_mtm = defaultdict(int), defaultdict(int), defaultdict(int)\n",
    "for day, portfolio in backtest.portfolio_dict.items():\n",
    "    for inst in portfolio:\n",
    "        if inst.premium_payment_date == day:\n",
    "            g_premia[day] += results[day][inst]\n",
    "        if inst.expiration_date == day:\n",
    "            g_payoff[day] += results[day][inst] \n",
    "        if inst.expiration_date != day:\n",
    "            g_mtm[day] += results[day][inst] \n",
    "\n",
    "g_overview = pd.concat([pd.Series(g_premia).cumsum(), pd.Series(g_payoff).cumsum(), pd.Series(g_mtm)], axis=1,\n",
    "                     sort=True).fillna(method='ffill').fillna(0)\n",
    "g_overview.columns = ['Premium Received at Inception', 'Paid at Expiry', 'Mark to Market']\n",
    "g_overview.plot(figsize=(12, 8), title='Cumulative Payoff, Premium and Mark-to-Market')"
   ]
  },
  {
   "cell_type": "markdown",
   "metadata": {},
   "source": [
    "### Disclaimer\n",
    "This website may contain links to websites and the content of third parties (\"Third Party Content\"). We do not monitor, review or update, and do not have any control over, any Third Party Content or third party websites. We make no representation, warranty or guarantee as to the accuracy, completeness, timeliness or reliability of any Third Party Content and are not responsible for any loss or damage of any sort resulting from the use of, or for any failure of, products or services provided at or from a third party resource. If you use these links and the Third Party Content, you acknowledge that you are doing so entirely at your own risk."
   ]
  }
 ],
 "metadata": {
  "kernelspec": {
   "display_name": "Python 3",
   "language": "python",
   "name": "python3"
  },
  "language_info": {
   "codemirror_mode": {
    "name": "ipython",
    "version": 3
   },
   "file_extension": ".py",
   "mimetype": "text/x-python",
   "name": "python",
   "nbconvert_exporter": "python",
   "pygments_lexer": "ipython3",
   "version": "3.7.4"
  }
 },
 "nbformat": 4,
 "nbformat_minor": 4
}
