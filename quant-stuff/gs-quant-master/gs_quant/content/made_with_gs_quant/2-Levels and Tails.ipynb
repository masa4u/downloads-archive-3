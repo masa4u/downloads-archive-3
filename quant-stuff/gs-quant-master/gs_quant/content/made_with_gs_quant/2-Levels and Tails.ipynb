{
 "cells": [
  {
   "cell_type": "markdown",
   "metadata": {},
   "source": [
    "## Levels and Tails\n",
    "\n",
    "### Summary \n",
    "\n",
    "In this note, I lay down a framework for analyzing swap rates levels both in spot and forward space, and rolldown for G3 currencies. I find that:\n",
    "* In USD swaps, the move over the last 3 months has been an almost parallel rally across the curve in spot space. But when we look at it in forward space, we find some nuances: \n",
    "    * 1y2y and 1y3y rallied the most as the market started pricing a deeper cutting cycle in the next 2 years\n",
    "    * 9y1y and 30y1y rallied more than points around them as investors use those liquid points for long duration hedges  \n",
    "*\tThe curve is now overall very flat, though the belly of the curve has slowly steepened over the last 6 months\n",
    "*\tFor investors looking to go long rates, the current shape of the curve would favor going long the backend in forward space (e.g. 5y5y) as that’s where there is a slightly favorable rolldown\n",
    "*\tOn a comparative basis:\n",
    "\t* the EUR curve is lower and steeper (as front end rates are at the lower bound) making it slightly more attractive from a roll-down perspective (but with less room to rally); and\n",
    "    * the GBP curve lower but flatter making it a slightly more attractive hedge for a broad duration sell-off\n",
    "\n",
    "\n",
    "\n",
    "The content of this notebook is split into:\n",
    "* [1 - Let's get started with gs quant](#1---Let's-get-started-with-gs-quant)\n",
    "* [2 - Spot Space](#2---Spot-Space)\n",
    "* [3 - Forward Space](#3---Forward-Space)\n",
    "* [4 - G3 Rolldown](#4---G3-Rolldown)"
   ]
  },
  {
   "cell_type": "markdown",
   "metadata": {},
   "source": [
    "### 1 - Let's get started with gs quant\n",
    "Start every session with authenticating with your unique client id and secret. If you don't have a registered app, create one [here](https://marquee.gs.com/s/developer/myapps/register). `run_analytics` scope is required for the functionality covered in this example. Below produced using gs-quant version 0.8.99."
   ]
  },
  {
   "cell_type": "code",
   "execution_count": null,
   "metadata": {},
   "outputs": [],
   "source": [
    "from gs_quant.session import GsSession\n",
    "GsSession.use(client_id=None, client_secret=None, scopes=('run_analytics',)) "
   ]
  },
  {
   "cell_type": "markdown",
   "metadata": {},
   "source": [
    "### 2 - Spot Space\n",
    "\n",
    "Let's start by looking at USD spot swap rates accross a range of tails and how current levels compare to 3 and 6 months ago."
   ]
  },
  {
   "cell_type": "code",
   "execution_count": null,
   "metadata": {},
   "outputs": [],
   "source": [
    "from gs_quant.markets import PricingContext\n",
    "from gs_quant.instrument import IRSwap\n",
    "from gs_quant.common import PayReceive, Currency\n",
    "from gs_quant.risk import IRFwdRate\n",
    "import matplotlib.pyplot as plt\n",
    "from datetime import timedelta\n",
    "import datetime as dt\n",
    "import pandas as pd\n",
    "\n",
    "def evaluate_with_context(instruments, measure=IRFwdRate, location='NYC', pricing_date=dt.date.today()):\n",
    "    \"\"\"evaluates a measure on an iterable of instruments in a pricing context (specific data location and date)\"\"\"\n",
    "    with PricingContext(market_data_location=location, pricing_date=pricing_date):\n",
    "        calc = [s.calc(measure) for s in instruments]\n",
    "    return [s.result() for s in calc]\n",
    "\n",
    "def levels_and_tails(look_back_mo, fwd_points, fixed_on='Tenors', fix_yrs=1, ccy=Currency.USD, p_r=PayReceive.Receive):\n",
    "    \"\"\"constructs a swap array w/ varying tenors/effective dates, returns frame evaluated for given lookback periods\"\"\"\n",
    "    swaps = [IRSwap(p_r, '{}y'.format(fix_yrs), ccy, effective_date='{}y'.format(f)) for f in fwd_points] \\\n",
    "        if fixed_on=='Tenors' else [IRSwap(p_r, '{}y'.format(f), ccy, effective_date='{}y'.format(fix_yrs)) \n",
    "                                    for f in fwd_points]\n",
    "    return pd.DataFrame({'{}m ago'.format(m) : \n",
    "                             evaluate_with_context(swaps, pricing_date=dt.date.today() + timedelta(weeks=-4*m)) \n",
    "                         for m in look_back_mo})*100"
   ]
  },
  {
   "cell_type": "code",
   "execution_count": null,
   "metadata": {},
   "outputs": [],
   "source": [
    "spot = levels_and_tails((0, 3, 6), range(1, 31), fixed_on='Forwards', fix_yrs=0)\n",
    "spot.set_index([['{}y'.format(t) for t in spot.index]], inplace=True)\n",
    "ax = spot.plot(figsize=(10, 6), title='Spot Rates Across USD Tails')\n",
    "ax.set(ylabel='Rate (%)', xlabel='Underlying Swap')"
   ]
  },
  {
   "cell_type": "markdown",
   "metadata": {},
   "source": [
    "As we can see in the graph, swap rates have come in vs 3m ago but are higher than 6mo for tails longer than 2y. Let's visualize the difference for each tenor using a bar chart."
   ]
  },
  {
   "cell_type": "code",
   "execution_count": null,
   "metadata": {},
   "outputs": [],
   "source": [
    "ax = (spot['0m ago']-spot['3m ago']).plot(figsize=(10, 6), kind='bar', title='USD Spot Rates Now vs 3m Ago')\n",
    "ax.set(ylabel='Rate (%)', xlabel='Underlying Swap')"
   ]
  },
  {
   "cell_type": "markdown",
   "metadata": {},
   "source": [
    "As we can see, compared to 3 months ago, swap rates have come in by ~18bps for all tails > 2y. "
   ]
  },
  {
   "cell_type": "code",
   "execution_count": null,
   "metadata": {},
   "outputs": [],
   "source": [
    "ax = (spot['0m ago']-spot['6m ago']).plot(figsize=(10, 6), kind='bar', title='USD Spot Rates Now vs 6m Ago')\n",
    "ax.set(ylabel='Rate (%)', xlabel='Underlying Swap')"
   ]
  },
  {
   "cell_type": "markdown",
   "metadata": {},
   "source": [
    "But compared to 6 months ago, swap rates are higher by ~5-10bps except at tails <3y where they are lower."
   ]
  },
  {
   "cell_type": "markdown",
   "metadata": {},
   "source": [
    "### 3 - Forward Space\n",
    "\n",
    "Let's look at how spot space compared to forward 1y space (we can use the same function to look at any \n",
    "point)."
   ]
  },
  {
   "cell_type": "code",
   "execution_count": null,
   "metadata": {},
   "outputs": [],
   "source": [
    "forward = levels_and_tails((0, 3, 6), range(0, 31), fixed_on='Tenors', fix_yrs=1)\n",
    "forward.set_index([['{}y1y'.format(t) for t in forward.index]], inplace=True)\n",
    "ax = forward.plot(figsize=(10, 6), title='Forward 1y USD Rates')\n",
    "ax.set(ylabel='Rate (%)', xlabel='Underlying Swap')"
   ]
  },
  {
   "cell_type": "markdown",
   "metadata": {},
   "source": [
    "We see a similiar comparative shift in the forward space - rates are higher vs 6m but lower vs 3m. We can also visualize where the best rolldown might be - more on this later. Let's first look if the changes are consistent across different tails."
   ]
  },
  {
   "cell_type": "code",
   "execution_count": null,
   "metadata": {},
   "outputs": [],
   "source": [
    "ax = (forward['0m ago']-forward['3m ago']).plot(figsize=(10, 6), kind='bar', title='Forward 1y USD Rates Now vs 3m Ago')\n",
    "ax.set(ylabel='Rate (%)', xlabel='Underlying Swap')"
   ]
  },
  {
   "cell_type": "markdown",
   "metadata": {},
   "source": [
    "Unlike in the spot space, 1y forward changes are less consistent across tenors - biggest changes vs 3 months ago are 2y, 9y and 30y tails."
   ]
  },
  {
   "cell_type": "code",
   "execution_count": null,
   "metadata": {},
   "outputs": [],
   "source": [
    "ax = (forward['0m ago']-forward['6m ago']).plot(figsize=(10, 6), kind='bar', title='Forward 1y USD Rates Now vs 6m Ago')\n",
    "ax.set(ylabel='Rate (%)', xlabel='Underlying Swap')"
   ]
  },
  {
   "cell_type": "markdown",
   "metadata": {},
   "source": [
    "Compared to 6 months ago, the biggest change is for 4y tails - for longer tails the change falls off almost monotonically.\n",
    "\n",
    "Let's now take a look at where rates are for a number of forward points and tails."
   ]
  },
  {
   "cell_type": "code",
   "execution_count": null,
   "metadata": {},
   "outputs": [],
   "source": [
    "from copy import deepcopy\n",
    "import seaborn as sns\n",
    "\n",
    "# note, if using pandas version>1.0.0, please delete result_type='broadcast' and replace last line with\n",
    "# return df.apply(lambda x: evaluate_with_context(x, IRFwdRate, location), axis=1)\n",
    "def construct_swap_frame(frame, ccy=Currency.USD, with_rolldown=False, carry_months=3, location='NYC', p_r=PayReceive.Receive):\n",
    "    \"\"\"constructs swap frame with option to subtract carry months from effective date and evaluates with pricing context\"\"\"\n",
    "    df = frame.apply(lambda x: [ IRSwap(p_r, termination_date='{}m'.format(tenor), notional_currency=ccy, \n",
    "                                        effective_date='{}m'.format(x.name-carry_months if with_rolldown else x.name)) \n",
    "                                for tenor in x.index], axis=1, result_type='broadcast')\n",
    "    return df.apply(lambda x: evaluate_with_context(x, IRFwdRate, location))\n",
    "\n",
    "def styled_heatmap(frame, title=''):\n",
    "    \"\"\"styles heatmap by adding labels and centering colors around 0\"\"\"\n",
    "    df = deepcopy(frame)*100\n",
    "    df.columns = ['{}m'.format(t) if t < 12 else '{}y'.format(int(t/12)) for t in df.columns]\n",
    "    df.set_index([['{}m'.format(t) if t < 12 else '{}y'.format(int(t/12)) for t in df.index]], inplace=True)\n",
    "    limit = max(abs(min(df.min())), abs(max(df.max())))\n",
    "    plt.subplots(figsize=(10, 6))\n",
    "    ax = sns.heatmap(df, annot=True, fmt='.2f', cmap='coolwarm_r', vmin=-limit, vmax=limit)\n",
    "    ax.set(ylabel='Forward Start', xlabel='Tenor', title=title)\n",
    "    ax.xaxis.tick_top()\n",
    "    ax.xaxis.set_label_position('top')"
   ]
  },
  {
   "cell_type": "code",
   "execution_count": null,
   "metadata": {},
   "outputs": [],
   "source": [
    "swap_df = pd.DataFrame(index=(3, 6, 9, 12, 24, 36, 60, 120), columns=(6, 12, 24, 36, 48, 60, 72, 84, 120, 180, 240)) \n",
    "usd_spot = construct_swap_frame(swap_df, Currency.USD)"
   ]
  },
  {
   "cell_type": "code",
   "execution_count": null,
   "metadata": {},
   "outputs": [],
   "source": [
    "styled_heatmap(usd_spot, title='USD Rates Across Tenors and Forwards (%)')"
   ]
  },
  {
   "cell_type": "markdown",
   "metadata": {},
   "source": [
    "Unsurprsingly, rates are lowest at the front of the curve for shorter forward starts and higher at the longer tails. "
   ]
  },
  {
   "cell_type": "markdown",
   "metadata": {},
   "source": [
    "### 4 - G3 Rolldown\n",
    "\n",
    "Let's now look at where the best 3m rolldown opportunities might be by looking a simple roll to spot scenario - more on advanced carry scenarios in later publications."
   ]
  },
  {
   "cell_type": "code",
   "execution_count": null,
   "metadata": {},
   "outputs": [],
   "source": [
    "usd_rd = construct_swap_frame(swap_df, Currency.USD, with_rolldown=True, carry_months=3)\n",
    "styled_heatmap((usd_spot-usd_rd)*100, title='USD 3m Rolldown (bps)')"
   ]
  },
  {
   "cell_type": "markdown",
   "metadata": {},
   "source": [
    "As we can see, in line with the curves above, there is negative at the front of the USD curve especially for tails and forward points <2y. The best positive rolldown here is at 5y starting point across shorter tenors (<2y). Let's now compare this to EUR and GBP."
   ]
  },
  {
   "cell_type": "code",
   "execution_count": null,
   "metadata": {},
   "outputs": [],
   "source": [
    "eur_spot = construct_swap_frame(swap_df, Currency.EUR)\n",
    "eur_rd = construct_swap_frame(swap_df, Currency.EUR, with_rolldown=True, carry_months=3)\n",
    "styled_heatmap((eur_spot-eur_rd)*100, title='EUR 3m Rolldown (bps)')"
   ]
  },
  {
   "cell_type": "markdown",
   "metadata": {},
   "source": [
    "The big picture for EUR is largely similar but the negative rolldown is smaller at the front of the curve and the best positive rolldown is still 5y starting but for 3y, 4y and 5y tails."
   ]
  },
  {
   "cell_type": "code",
   "execution_count": null,
   "metadata": {},
   "outputs": [],
   "source": [
    "gbp_spot = construct_swap_frame(swap_df, Currency.GBP)\n",
    "gbp_rd = construct_swap_frame(swap_df, Currency.GBP, with_rolldown=True, carry_months=3)\n",
    "styled_heatmap((gbp_spot-gbp_rd)*100, title='GBP 3m Rolldown (bps)')"
   ]
  },
  {
   "cell_type": "markdown",
   "metadata": {},
   "source": [
    "The negative rolldown for GBP is lower than for EUR but higher than for USD. The best positive rolldown is at 2y forward start for 6m and 1y tenors."
   ]
  },
  {
   "cell_type": "markdown",
   "metadata": {},
   "source": [
    "### Disclaimer\n",
    "This website may contain links to websites and the content of third parties (\"Third Party Content\"). We do not monitor, review or update, and do not have any control over, any Third Party Content or third party websites. We make no representation, warranty or guarantee as to the accuracy, completeness, timeliness or reliability of any Third Party Content and are not responsible for any loss or damage of any sort resulting from the use of, or for any failure of, products or services provided at or from a third party resource. If you use these links and the Third Party Content, you acknowledge that you are doing so entirely at your own risk."
   ]
  }
 ],
 "metadata": {
  "kernelspec": {
   "display_name": "Python 3",
   "language": "python",
   "name": "python3"
  },
  "language_info": {
   "codemirror_mode": {
    "name": "ipython",
    "version": 3
   },
   "file_extension": ".py",
   "mimetype": "text/x-python",
   "name": "python",
   "nbconvert_exporter": "python",
   "pygments_lexer": "ipython3",
   "version": "3.7.4"
  }
 },
 "nbformat": 4,
 "nbformat_minor": 4
}
