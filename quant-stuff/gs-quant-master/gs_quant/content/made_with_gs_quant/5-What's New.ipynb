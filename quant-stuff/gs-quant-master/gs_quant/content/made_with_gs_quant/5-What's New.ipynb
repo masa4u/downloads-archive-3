{
 "cells": [
  {
   "cell_type": "markdown",
   "metadata": {},
   "source": [
    "## What's New\n",
    "\n",
    "### Summary \n",
    "\n",
    "Brought to you by popular demand, this edition of `made-with-gs-quant` will showcase some of our newest features and capabilities. Going forward, look out for a `What's New` section in `made_with_gs_quant` that will highlight new additions.\n",
    "\n",
    "The content of this notebook is split into:\n",
    "* [1 - Let's get started with gs quant](#1---Let's-get-started-with-gs-quant)\n",
    "* [2 - Cash flows](#2---Cash-flows)\n",
    "* [3 - Portfolios](#3---Portfolios)\n",
    "* [4 - Scenarios](#4---Scenarios)\n",
    "* [5 - Compute](#4---Compute)"
   ]
  },
  {
   "cell_type": "markdown",
   "metadata": {},
   "source": [
    "### 1 - Let's get started with gs quant\n",
    "Start every session with authenticating with your unique client id and secret. If you don't have a registered app, create one [here](https://marquee.gs.com/s/developer/myapps/register). `run_analytics` scope is required for the functionality covered in this example. Below produced using gs-quant version 0.8.115."
   ]
  },
  {
   "cell_type": "code",
   "execution_count": null,
   "metadata": {},
   "outputs": [],
   "source": [
    "from gs_quant.session import GsSession\n",
    "GsSession.use(client_id=None, client_secret=None, scopes=('run_analytics',))"
   ]
  },
  {
   "cell_type": "markdown",
   "metadata": {},
   "source": [
    "### 2 - Cash flows\n",
    "\n",
    "Let's start with something small but impactful - ability to model future cashflows. You can simply use `CashFlows` as any of the other risk measures to get a dataframe of future cashflows."
   ]
  },
  {
   "cell_type": "code",
   "execution_count": null,
   "metadata": {},
   "outputs": [],
   "source": [
    "from gs_quant.risk import Cashflows\n",
    "from gs_quant.common import Currency, PayReceive\n",
    "from gs_quant.instrument import IRSwaption\n",
    "\n",
    "swaption = IRSwaption(PayReceive.Receive, '10y', Currency.USD, expiration_date='6m')\n",
    "cf = swaption.calc(Cashflows)\n",
    "cf.head()"
   ]
  },
  {
   "cell_type": "markdown",
   "metadata": {},
   "source": [
    "### 3 - Portfolios\n",
    "I have used `Portfolio` wrappers in my previous analyses, so this one should be somewhat familiar. `Portfolio` makes working with many positions easier and allows risk to be viewed both at position level and aggregate level (more portfolio features like saving in the pipeline..look for it in `What's New` section in the new editions!)\n",
    "\n",
    "Let's first define a portfolio - I will define a book of swaptions with varying strikes."
   ]
  },
  {
   "cell_type": "code",
   "execution_count": null,
   "metadata": {},
   "outputs": [],
   "source": [
    "from gs_quant.markets.portfolio import Portfolio\n",
    "from gs_quant.common import Currency, PayReceive\n",
    "from gs_quant.instrument import IRSwaption\n",
    "\n",
    "swaptions = [IRSwaption(PayReceive.Receive, '10y', Currency.USD, expiration_date='6m', strike=strike, \n",
    "                        name=strike) for strike in ('atm', 'atm-10', 'atm-25', 'atm-50')]\n",
    "\n",
    "# create portfolio from list of instruments\n",
    "portfolio = Portfolio(swaptions, name='swaption_port')\n",
    "\n",
    "# resolve all the instruments in place\n",
    "portfolio.resolve()"
   ]
  },
  {
   "cell_type": "markdown",
   "metadata": {},
   "source": [
    "Now we can work with this portfolio the same way we do with an instrument - that is, we can price it or calculate any of the available risk measures on it. "
   ]
  },
  {
   "cell_type": "code",
   "execution_count": null,
   "metadata": {},
   "outputs": [],
   "source": [
    "from gs_quant.risk import DollarPrice, IRVegaParallel\n",
    "risks = portfolio.calc((DollarPrice, IRVegaParallel))"
   ]
  },
  {
   "cell_type": "markdown",
   "metadata": {},
   "source": [
    "With `risks` in hand, we can examine these risks on an instrument level or aggregate level:"
   ]
  },
  {
   "cell_type": "code",
   "execution_count": null,
   "metadata": {},
   "outputs": [],
   "source": [
    "# all risks for a specific (in this case, first) instrument in the portfolio\n",
    "print(risks[portfolio[0]])\n",
    "\n",
    "# single risk for a specific (in this case, first) instrument in the portfolio\n",
    "print(risks[portfolio[0]][DollarPrice])\n",
    "# or...\n",
    "print(risks[DollarPrice][portfolio[0]])\n",
    "\n",
    "# aggregate risk for the portfolio\n",
    "print(risks[IRVegaParallel].aggregate())"
   ]
  },
  {
   "cell_type": "markdown",
   "metadata": {},
   "source": [
    "Finally, we can convert our portfolio to a dataframe where each row will represent an instrument. "
   ]
  },
  {
   "cell_type": "code",
   "execution_count": null,
   "metadata": {},
   "outputs": [],
   "source": [
    "frame = portfolio.to_frame()\n",
    "frame.head(2)"
   ]
  },
  {
   "cell_type": "markdown",
   "metadata": {},
   "source": [
    "We can append `RiskResults` as columns to this dataframe as we compute additional measures."
   ]
  },
  {
   "cell_type": "code",
   "execution_count": null,
   "metadata": {},
   "outputs": [],
   "source": [
    "import pandas as pd\n",
    "\n",
    "rks = pd.DataFrame(risks) \n",
    "rks.index = frame.index\n",
    "\n",
    "pd.concat([frame, rks], axis=1)"
   ]
  },
  {
   "cell_type": "markdown",
   "metadata": {},
   "source": [
    "Note the last two columns in the frame are the risks we appended!\n",
    "\n",
    "Want to see more portfolio examples? Refer to portfolio [examples here](https://nbviewer.jupyter.org/github/goldmansachs/gs-quant/tree/master/gs_quant/examples/02_portfolio/) and [previous editions](https://nbviewer.jupyter.org/github/goldmansachs/gs-quant/tree/master/gs_quant/made_with_gs_quant/) of `made_with_gs_quant`."
   ]
  },
  {
   "cell_type": "markdown",
   "metadata": {},
   "source": [
    "### 4 - Scenarios\n",
    "\n",
    "The team has also invested to build our scenario capabilities. In particular we: (1) simplified `MarketDataShock` scenario (2) added aging or `rollfwd` scenario (3) introduced composite scenarios. Let's look at an example of each."
   ]
  },
  {
   "cell_type": "markdown",
   "metadata": {},
   "source": [
    "##### Simple Market Shock\n",
    "\n",
    "`MarketDataShockBasedScenario` is designed to allow users to shock any kind of market data. In this example we will shock the spot by 1bp. Note while before you had to specify each of the underlying curves used to build spot curve, you can now simply indicate `('IR', 'USD')`"
   ]
  },
  {
   "cell_type": "code",
   "execution_count": null,
   "metadata": {},
   "outputs": [],
   "source": [
    "from gs_quant.risk import MarketDataShockBasedScenario, MarketDataPattern, MarketDataShock, MarketDataShockType\n",
    "\n",
    "ir_spot_scenario = MarketDataShockBasedScenario(\n",
    "    shocks={\n",
    "        MarketDataPattern('IR', 'USD'): MarketDataShock(MarketDataShockType.Absolute, 1e-4),  # 1 bp shock\n",
    "        MarketDataPattern('IR Reset', 'USD-3m'): MarketDataShock(shock_type=MarketDataShockType.Absolute, value=1e-4),\n",
    "    })\n",
    "\n",
    "with ir_spot_scenario:\n",
    "    spot_shock = portfolio.price()\n",
    "    \n",
    "print('Base price:        {:,.2f}'.format(risks[DollarPrice].aggregate())) # or portfolio.price().aggregate()\n",
    "print('Spot shock price:  {:,.2f}'.format(spot_shock.aggregate()))"
   ]
  },
  {
   "cell_type": "markdown",
   "metadata": {},
   "source": [
    "##### RollFwd\n",
    "\n",
    "The `RollFwd` Scenario can be used to move the pricing date into the future. In order to do this we do two things: (1) project the market data forward in time (either keeping spot rates constant or fwd rates constant - more on this in a bit) to the new pricing date and (2) lifecycle the trades so that any fixings or expiries that happen between today’s date and the target future date have been handled."
   ]
  },
  {
   "cell_type": "code",
   "execution_count": null,
   "metadata": {},
   "outputs": [],
   "source": [
    "from gs_quant.markets import PricingContext\n",
    "from gs_quant.risk import RollFwd\n",
    "\n",
    "rollfwd_scenario = RollFwd(date='1m', holiday_calendar='NYC')\n",
    "with rollfwd_scenario:\n",
    "    rollfwd_shock = portfolio.price()\n",
    "    \n",
    "print('Base price:        {:,.2f}'.format(risks[DollarPrice].aggregate())) # portfolio.price().aggregate()\n",
    "print('Rolled Forward price: {:,.2f}'.format(rollfwd_shock.aggregate()))"
   ]
  },
  {
   "cell_type": "markdown",
   "metadata": {},
   "source": [
    "##### Combined Scenarios\n",
    "\n",
    "We can now combine these two scenarios to produce a 'rollfwd then bump' scenario (note all permutations aren't supported yet but are underway):"
   ]
  },
  {
   "cell_type": "code",
   "execution_count": null,
   "metadata": {},
   "outputs": [],
   "source": [
    "with rollfwd_scenario, ir_spot_scenario:\n",
    "    rollfwd_then_bump_shock = portfolio.price()\n",
    "    \n",
    "print('Base price:            {:,.2f}'.format(risks[DollarPrice].aggregate())) # portfolio.price().aggregate()\n",
    "print('Rollfwd then bump price: {:,.2f}'.format(rollfwd_then_bump_shock.aggregate()))"
   ]
  },
  {
   "cell_type": "markdown",
   "metadata": {},
   "source": [
    "More on scenario examples in the [examples folder](https://nbviewer.jupyter.org/github/goldmansachs/gs-quant/tree/master/gs_quant/examples/04_scenario/) in the gs-quant repo."
   ]
  },
  {
   "cell_type": "markdown",
   "metadata": {},
   "source": [
    "### 5 - Compute\n",
    "\n",
    "Finally to optimize both speed and performance we have improved our async and batch framework.\n",
    "\n",
    "In a nutshell, `async` allows the requests to be processed in parallel and `batch` allows them to be grouped together and avoid timeouts for particularly large requests.\n",
    "\n",
    "Additionally, multiple contexts can be controlled by a 'master' `PricingContext` to batch requests together in order to also avoid timeouts and sending too many requests. For example of this please see [`4-Delta Hedging`](https://nbviewer.jupyter.org/github/goldmansachs/gs-quant/blob/master/gs_quant/made_with_gs_quant/4-Delta%20Hedging.ipynb) notebook. \n",
    "\n",
    "For now, let's look at a simpler example using the scenarios we discussed in the previous section. Here we will look at how the price of our portfolio evolved as we move it 21 days forward in time both keeping spot rates constant (`roll_to_fwds=False`) and fwd rates constant (`roll_to_fwds=True`). Let's use a `PricingContext` with batch mode to organize these requests."
   ]
  },
  {
   "cell_type": "code",
   "execution_count": null,
   "metadata": {},
   "outputs": [],
   "source": [
    "from gs_quant.markets import PricingContext\n",
    "from gs_quant.datetime import business_day_offset\n",
    "import datetime as dt\n",
    "\n",
    "roll_to_spot = []\n",
    "roll_to_fwd = []\n",
    "\n",
    "\n",
    "date = business_day_offset(dt.date.today(), -1, roll='preceding')\n",
    "\n",
    "\n",
    "with PricingContext(pricing_date=date, market_data_location='NYC', is_batch=True, visible_to_gs=True):\n",
    "    for bus_days in range(21):\n",
    "        with PricingContext(is_async=True), RollFwd(date=f'{bus_days}b', holiday_calendar='NYC', realise_fwd=True):\n",
    "            roll_to_spot.append(portfolio.price())\n",
    "        with PricingContext(is_async=True), RollFwd(date=f'{bus_days}b', holiday_calendar='NYC', realise_fwd=False):\n",
    "            roll_to_fwd.append(portfolio.price())"
   ]
  },
  {
   "cell_type": "markdown",
   "metadata": {},
   "source": [
    "Let's now visualize the result:"
   ]
  },
  {
   "cell_type": "code",
   "execution_count": null,
   "metadata": {},
   "outputs": [],
   "source": [
    "import matplotlib.pyplot as plt\n",
    "import numpy as np\n",
    "\n",
    "pd.Series([r.aggregate() for r in roll_to_spot], name='Roll to Spot', dtype=np.dtype(float)).plot(figsize=(10, 6))\n",
    "pd.Series([r.aggregate() for r in roll_to_fwd], name='Roll to Fwd', dtype=np.dtype(float)).plot(figsize=(10, 6))\n",
    "plt.xlabel('Business Days from Pricing Date')\n",
    "plt.ylabel('PV')"
   ]
  },
  {
   "cell_type": "markdown",
   "metadata": {},
   "source": [
    "That's all for this edition - please keep sharing your feedback on what would make `gs-quant` even more useful for you as well as suggestions for `made_with_gs_quant` you would like to see in the future.\n",
    "\n",
    "Happy coding!"
   ]
  }
 ],
 "metadata": {
  "kernelspec": {
   "display_name": "Python 3",
   "language": "python",
   "name": "python3"
  },
  "language_info": {
   "codemirror_mode": {
    "name": "ipython",
    "version": 3
   },
   "file_extension": ".py",
   "mimetype": "text/x-python",
   "name": "python",
   "nbconvert_exporter": "python",
   "pygments_lexer": "ipython3",
   "version": "3.7.4"
  }
 },
 "nbformat": 4,
 "nbformat_minor": 4
}
