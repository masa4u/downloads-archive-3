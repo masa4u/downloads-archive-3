{
 "cells": [
  {
   "cell_type": "markdown",
   "metadata": {},
   "source": [
    "## FX Election Hedge\n",
    "### Summary \n",
    "\n",
    "With the US election less than 40 days away, election market dynamics are a major risk driver across asset classes. In this note, we look for interesting FX proxies for different election outcomes and find that AUDJPY has a strong relationship to and a higher beta to SPX in downside scenarios than in upside ones, making it a potentially attractive downside hedge. We use `gs-quant` to examine the relationship, price several structures and analyze impact of different election outcomes on these trades.\n",
    "\n",
    "The content of this notebook is split into:\n",
    "* [1 - Let's get started with gs quant](#1---Let's-get-started-with-gs-quant)\n",
    "* [2 - State of FX market](#2---State-of-FX-market)\n",
    "* [3 - Downside sensitivity to SPX](#3---Downside-sensitivity-to-SPX)\n",
    "* [4 - Structures](#4---Structures)\n",
    "* [5 - Pricing election outcomes](#5---Pricing-election-outcomes)\n",
    "* [What's New](#What's-New)\n",
    "\n",
    "P.S. In case you missed it, [check out the replay of our last webinar](https://developer.gs.com/docs/gsquant/videos/gs-quant-meets-markets/) where our traders and strats use code as content to comment on macro trends, in particular around US elections."
   ]
  },
  {
   "cell_type": "markdown",
   "metadata": {},
   "source": [
    "### 1 - Let's get started with gs quant\n",
    "Start every session with authenticating with your unique client id and secret. If you don't have a registered app, create one [here](https://marquee.gs.com/s/developer/myapps/register). `run_analytics` scope is required for the functionality covered in this example. Below produced using gs-quant version 0.8.199."
   ]
  },
  {
   "cell_type": "code",
   "execution_count": null,
   "metadata": {},
   "outputs": [],
   "source": [
    "from gs_quant.session import GsSession\n",
    "GsSession.use(client_id=None, client_secret=None, scopes=('run_analytics', 'read_product_data')) "
   ]
  },
  {
   "cell_type": "markdown",
   "metadata": {},
   "source": [
    "### 2 - State of FX market\n",
    "\n",
    "Let's focus on G10 and grab spot and vol data from [gs data catalog](https://marquee.gs.com/s/discover/data-services/catalog). To start, let's see how things have evolved over the last few months - we'll use the longer history in latter parts of the analysis."
   ]
  },
  {
   "cell_type": "code",
   "execution_count": null,
   "metadata": {},
   "outputs": [],
   "source": [
    "from gs_quant.data import Dataset\n",
    "import pandas as pd\n",
    "import datetime\n",
    "\n",
    "start_date = datetime.date(2005, 8, 26)\n",
    "end_date = datetime.date.today()\n",
    "\n",
    "fx_pairs = ['USDJPY', 'EURUSD', 'AUDUSD', 'AUDJPY', 'USDNOK', 'GBPUSD','USDCAD', 'NZDUSD', 'USDSEK', 'USDCHF']\n",
    "\n",
    "fx_spot = Dataset('FXSPOT_PREMIUM').get_data(start_date, end_date, bbid=fx_pairs, location='NYC')\n",
    "fx_spot = pd.pivot_table(fx_spot, values='spot', index=['date'], columns=['bbid'])\n",
    "\n",
    "fx_vol = Dataset('FXIMPLIEDVOL_PREMIUM').get_data(start_date, end_date, bbid=fx_pairs, tenor='3m', deltaStrike='DN', location='NYC')\n",
    "fx_vol = pd.pivot_table(fx_vol, values='impliedVolatility', index=['date'], columns=['bbid'])\n",
    "\n",
    "spx_spot = Dataset('TREOD').get_data(start_date, end_date, bbid='SPX')[['closePrice']].rename(columns = {'closePrice':'SPX'})"
   ]
  },
  {
   "cell_type": "code",
   "execution_count": null,
   "metadata": {},
   "outputs": [],
   "source": [
    "last3m = fx_spot.tail(90).apply(lambda x: 1/x if x.name[:3]=='USD' else x)\n",
    "ax = (last3m / last3m.iloc[0]).plot(figsize=(12, 8), title='FX Moves last 3m (SPX on RHS, all crosses vs USD)')\n",
    "spx_spot.tail(90).plot(secondary_y=True, ax=ax)"
   ]
  },
  {
   "cell_type": "code",
   "execution_count": null,
   "metadata": {},
   "outputs": [],
   "source": [
    "fx_vol.tail(90).plot(figsize=(12, 8), title='FX Vol last 3m')"
   ]
  },
  {
   "cell_type": "markdown",
   "metadata": {},
   "source": [
    "USD has weakened relative to the major currencies over the first 2 months of the period but strengthened most recently. Looking to the vol space, 3m vols peaked first half of June, normalizing slightly over next few months but have started to climb again most recently. Let's see their z scores to see how many standard deviations they are away from the mean on a 1, 3, 6, 9 month basis."
   ]
  },
  {
   "cell_type": "code",
   "execution_count": null,
   "metadata": {},
   "outputs": [],
   "source": [
    "from gs_quant.timeseries import beta, returns, diff, zscores\n",
    "import matplotlib.pyplot as plt\n",
    "import seaborn as sns\n",
    "import warnings\n",
    "warnings.filterwarnings('ignore')\n",
    "\n",
    "zs = lambda p, d: zscores(d.tail(p)).tail(1).values[0]\n",
    "fx_vol_zs = {cross: {'1m': zs(21, data), '3m': zs(63, data), '6m': zs(126, data), \n",
    "                     '9m': zs(189, data)} for cross, data in fx_vol.iteritems()}\n",
    "\n",
    "def plot_crosses(data, xlabel, title):\n",
    "    plt.subplots(figsize=(10, 6))\n",
    "    center = max(data.max().max(), abs(data.min().min())) \n",
    "    ax = sns.heatmap(data, annot=True, vmin=-center, vmax=center, fmt='.2f', cmap='coolwarm_r', )\n",
    "    ax.set(ylabel='Crosses', xlabel=xlabel, title=title)\n",
    "    ax.xaxis.tick_top()\n",
    "    ax.xaxis.set_label_position('top')\n",
    "\n",
    "plot_crosses(pd.DataFrame(fx_vol_zs).T, xlabel='Lookback', title='FX Vol Z Scores',)"
   ]
  },
  {
   "cell_type": "markdown",
   "metadata": {},
   "source": [
    "### 3 - Downside sensitivity to SPX\n",
    "\n",
    "Although many parts of the market recovered much of the lost ground since the start of the pandemic, as we can see above, a skittish environment remains. Given an abundance of potential downside catalysts and elections on the horizon, it's no surprise implied volatility in FX and especially in equity markets where investors are looking to downside protection, remains high. \n",
    "\n",
    "Let's look at the relationship of the crosses we examined so far to SPX returns especially in drawdown scenarios to see if we can find FX alternatives with a high SPX beta but potentially lower cost."
   ]
  },
  {
   "cell_type": "code",
   "execution_count": null,
   "metadata": {},
   "outputs": [],
   "source": [
    "from collections import defaultdict\n",
    "\n",
    "def package_data(data, freq='W-FRI', abs_c=False, w=1):\n",
    "    spt_data = pd.concat([data, spx_spot], axis=1)\n",
    "    sampled = spt_data.resample(freq).last()\n",
    "    return diff(sampled, w).dropna() if abs_c else returns(sampled, w).dropna()\n",
    "    \n",
    "def perf_vs_spx(spx_returns, data, show_ret=False):\n",
    "    avg_p = defaultdict(dict)\n",
    "    for ret in spx_returns:\n",
    "        dns = data[data.SPX <= ret].dropna() if ret < 0 else data[data.SPX >= ret].dropna() \n",
    "        for cross in fx_pairs:\n",
    "            avg_p[ret][cross] = dns[cross].mean() * 100\n",
    "        if show_ret:\n",
    "            avg_p[ret]['SPX'] = dns.SPX.mean() * 100\n",
    "            print(f'# of observations for SPX {ret}: {len(dns)}')\n",
    "    return pd.DataFrame(avg_p)\n",
    "\n",
    "spx_returns = [-.1, -.05, .05, .1]   \n",
    "spot_perf = perf_vs_spx(spx_returns, package_data(fx_spot), show_ret=True)\n",
    "vol_perf = perf_vs_spx(spx_returns, package_data(fx_vol, abs_c=True)*100)\n",
    "\n",
    "plot_crosses(spot_perf, 'SPX Weekly Move', 'Avg weekly % return during large SPX moves')\n",
    "plot_crosses(vol_perf, 'SPX Weekly Move', 'Avg weekly vol change during large SPX moves')"
   ]
  },
  {
   "cell_type": "markdown",
   "metadata": {},
   "source": [
    "As we can see above AUDJPY and AUDUSD moved with the largest magnitude in the same direction with as SPX when SPX experienced large moves since the start date (2005 in this case). Instead of looking at returns, let's focus on one of the crosses - AUDJPY - and look at the conditional relationship through a different lens: the R-squared number on each chart will tell us the strength of the relationship with numbers closer to 0 indicating a lack of one."
   ]
  },
  {
   "cell_type": "code",
   "execution_count": null,
   "metadata": {},
   "outputs": [],
   "source": [
    "from scipy import stats\n",
    "\n",
    "r2 = lambda x,y: stats.pearsonr(x,y)[0]**2 \n",
    "\n",
    "def SPX_conditional_downside(thresholds, data, asset):\n",
    "    for ret in thresholds:\n",
    "        dns = data[data.SPX <= ret].dropna() if ret < 0 else data[data.SPX >= ret].dropna() \n",
    "        j = sns.jointplot(x='SPX', y=asset, data=dns, kind='reg')\n",
    "        j.set_axis_labels('SPX with {}% Returns'.format(ret*100), asset)\n",
    "        j.fig.subplots_adjust(wspace=.02)\n",
    "        plt.show()\n",
    "\n",
    "spot_package = package_data(fx_spot)\n",
    "SPX_conditional_downside(spx_returns, spot_package, 'AUDJPY')"
   ]
  },
  {
   "cell_type": "markdown",
   "metadata": {},
   "source": [
    "As we can see from the charts above, there's a strong positive relationship between AUDJPY and SPX in large downside scenarios (SPX -5% and -10% on the week) but not on the upside (SPX +5%, +10%). This makes this cross an attractive candidate for an alternative to hedging with SPX directly."
   ]
  },
  {
   "cell_type": "markdown",
   "metadata": {},
   "source": [
    "### 4 - Structures\n",
    "\n",
    "Let's now look at a few AUDJPY structures as potential hedges:\n",
    "\n",
    "*  Buy 2m AUDJPY put using spx beta to size. Max loss limited to premium paid.\n",
    "*  Buy 2m AUDJPY put spread (5.4%/10% OTMS). Max loss limited to premium paid.\n",
    "\n",
    "For more info on these trades, reach out to receive the piece from our marketstrats team. Note all pricing is based on GS T-1 mid marks and does not include transaction costs.\n",
    "\n",
    "We'll start by looking at the cost of an 10% OTMS SPX put (max loss limited to premium paid)."
   ]
  },
  {
   "cell_type": "code",
   "execution_count": null,
   "metadata": {},
   "outputs": [],
   "source": [
    "from gs_quant.instrument import EqOption, FXOption\n",
    "\n",
    "spx = EqOption(option_type='Put', underlier='.SPX', exchange='NYSE', strike_price='90%', expiration_date='2m', buy_sell='Buy')\n",
    "spx.resolve()\n",
    "\n",
    "notional = spx.strike_price * spx.multiplier\n",
    "print('cost in bps: {:,.2f}'.format(-spx.price()/notional * 1e4))\n",
    "print('cost in USD: {:,.2f}'.format(-spx.price()))"
   ]
  },
  {
   "cell_type": "markdown",
   "metadata": {},
   "source": [
    "Now, I will calculate the beta  over the last 6m and use that to size the FX hedge."
   ]
  },
  {
   "cell_type": "code",
   "execution_count": null,
   "metadata": {},
   "outputs": [],
   "source": [
    "#buy 4m AUDJPY put\n",
    "b = beta(fx_spot.AUDJPY.resample('W-FRI').last(), spx_spot.SPX.resample('W-FRI').last(), 4 * 6).tail(1).values[0]\n",
    "beta_notional = notional * (1 / b)\n",
    "audjpy_put = FXOption(option_type='Put', pair='AUDJPY', strike_price= f's-{b * 10}%', notional_amount=beta_notional, expiration_date='2m', buy_sell='Buy')\n",
    "audjpy_put.resolve()\n",
    "print('cost in bps: {:,.2f}'.format(audjpy_put.premium / audjpy_put.notional_amount * 1e4))\n",
    "print('cost in USD: {:,.2f}'.format(audjpy_put.premium))"
   ]
  },
  {
   "cell_type": "code",
   "execution_count": null,
   "metadata": {},
   "outputs": [],
   "source": [
    "print('Discount to SPX: {:,.2f}%'.format((1 - audjpy_put.premium/-spx.price()) * 100))"
   ]
  },
  {
   "cell_type": "markdown",
   "metadata": {},
   "source": [
    "We can cheapen the structure further by structuring a put spread."
   ]
  },
  {
   "cell_type": "code",
   "execution_count": null,
   "metadata": {},
   "outputs": [],
   "source": [
    "from gs_quant.markets.portfolio import Portfolio\n",
    "\n",
    "put1 = FXOption(option_type='Put', pair='AUDJPY', strike_price= f's-{b * 10}%', expiration_date='2m', notional_amount=beta_notional, buy_sell='Buy')\n",
    "put2 = FXOption(option_type='Put', pair='AUDJPY', strike_price='s-10%', expiration_date='2m', notional_amount=beta_notional, buy_sell='Sell')\n",
    "print('cost in USD: {:,.2f}'.format(put1.premium + put2.premium))"
   ]
  },
  {
   "cell_type": "code",
   "execution_count": null,
   "metadata": {},
   "outputs": [],
   "source": [
    "print('Discount to put: {:,.2f}%'.format(100 - (put1.premium + put2.premium)/audjpy_put.premium * 100))"
   ]
  },
  {
   "cell_type": "markdown",
   "metadata": {},
   "source": [
    "### 5 - Pricing election outcomes\n",
    "\n",
    "Now, let's take this a step further and examine how different potential election outcomes might impact our put spread structure. First, we'll look at FXDelta to see which market assets are driving risk. Then, we'll roll our structure up to the election date and leverage work done by spot trading desk to shock the market assets we have risk to, examining PV impact of these rolling forward + shock scenarios for various election outcomes. Note, here I'm using spot shocks only but you can additionally add vol shocks (example in comment below) for a more representative scenario. "
   ]
  },
  {
   "cell_type": "code",
   "execution_count": null,
   "metadata": {},
   "outputs": [],
   "source": [
    "from gs_quant.risk import FXDelta\n",
    "\n",
    "fx_package = Portfolio((put1, put2))\n",
    "fx_package.resolve()\n",
    "fx_package.calc(FXDelta).aggregate()"
   ]
  },
  {
   "cell_type": "code",
   "execution_count": null,
   "metadata": {},
   "outputs": [],
   "source": [
    "from gs_quant.risk import RollFwd, MarketDataPattern, MarketDataShock, MarketDataShockBasedScenario, MarketDataShockType\n",
    "from gs_quant.markets import PricingContext\n",
    "\n",
    "scenarios = pd.DataFrame({\n",
    "    'AUDUSD': {'Rep sweep': 2.5, 'Trump + split congress': 2.0, 'Biden + split congress': -2.5, 'Dem sweep': -3.5, 'Still contested': -1.5},\n",
    "    'USDJPY': {'Rep sweep': 2.0, 'Trump + split congress': 1.0, 'Biden + split congress': -2.5, 'Dem sweep': -3.5, 'Still contested': -2.5}\n",
    "})\n",
    "\n",
    "rollfwd_scenario = RollFwd(date = datetime.date(2020, 11, 3))\n",
    "base_price = fx_package.price().aggregate()\n",
    "\n",
    "outcomes = {}\n",
    "with PricingContext(is_batch=True):\n",
    "    for scenario, data in scenarios.iterrows():\n",
    "        market_shock = MarketDataShockBasedScenario(shocks={  \n",
    "            MarketDataPattern('FX', 'USD/AUD'): MarketDataShock(MarketDataShockType.Proportional, data.AUDUSD/100),\n",
    "            MarketDataPattern('FX', 'JPY/USD'): MarketDataShock(MarketDataShockType.Proportional, data.USDJPY/100), \n",
    "            # note - you can easily add additional shocks here - like vol \n",
    "            # MarketDataPattern('FX Vol', 'JPY/AUD', 'ATM Vol'): MarketDataShock(MarketDataShockType.Absolute, x/100)\n",
    "        })\n",
    "        with rollfwd_scenario, market_shock:\n",
    "            s_p = fx_package.price()\n",
    "        outcomes[scenario] = s_p"
   ]
  },
  {
   "cell_type": "code",
   "execution_count": null,
   "metadata": {},
   "outputs": [],
   "source": [
    "final_scen = {s: s_p.aggregate() - base_price for s, s_p in outcomes.items()}\n",
    "pd.Series(final_scen).plot(kind='barh', figsize=(10, 6), title='PV impact of Rolling Forward and Election Market Data Scenarios on Structure')"
   ]
  },
  {
   "cell_type": "markdown",
   "metadata": {},
   "source": [
    "### What's New\n",
    "* `FXOption` used in this notebook\n",
    "* Simplified backtesting - examples to come\n",
    "* `BacktoTheFuturePricingContext` pricing context - combining `HistoricalPricingContext` and `RollFwd`"
   ]
  }
 ],
 "metadata": {
  "kernelspec": {
   "display_name": "Python 3",
   "language": "python",
   "name": "python3"
  },
  "language_info": {
   "codemirror_mode": {
    "name": "ipython",
    "version": 3
   },
   "file_extension": ".py",
   "mimetype": "text/x-python",
   "name": "python",
   "nbconvert_exporter": "python",
   "pygments_lexer": "ipython3",
   "version": "3.7.4"
  }
 },
 "nbformat": 4,
 "nbformat_minor": 4
}
