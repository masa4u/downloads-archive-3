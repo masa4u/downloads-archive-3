{
 "cells": [
  {
   "cell_type": "code",
   "execution_count": 1,
   "id": "changing-buyer",
   "metadata": {
    "pycharm": {
     "is_executing": true
    }
   },
   "outputs": [],
   "source": [
    "from gs_quant.session import GsSession\n",
    "# external users should substitute their client id and secret; please skip this step if using internal jupyterhub\n",
    "GsSession.use(client_id=None, client_secret=None,scopes=('read_product_data', 'run_analytics')) "
   ]
  },
  {
   "cell_type": "code",
   "execution_count": 36,
   "id": "prostate-identifier",
   "metadata": {},
   "outputs": [],
   "source": [
    "from gs_quant.instrument import FXOption, EqOption\n",
    "from gs_quant.data import Dataset\n",
    "from gs_quant.timeseries import last_value, correlation, percentiles, volatility, Returns\n",
    "from gs_quant.risk import FXSpot\n",
    "from gs_quant.datetime.relative_date import RelativeDate\n",
    "from gs_quant.markets.portfolio import Portfolio\n",
    "import pandas as pd\n",
    "import seaborn as sns\n",
    "import matplotlib.pyplot as plt\n",
    "import warnings\n",
    "warnings.filterwarnings('ignore')\n",
    "pd.set_option('display.precision', 2)"
   ]
  },
  {
   "cell_type": "markdown",
   "id": "mounted-atlas",
   "metadata": {},
   "source": [
    "## EQ FX Hedging Screen\n",
    "\n",
    "We screen for the most attractive FX options to hedge an equity index such as S&P. For each 3m FX option, we the direction is chosen based on historical 1y correlations using weekly returns. The strikes and notionals of the FX options are adjusted by the 6m realized vol ratio to an equity index. \n",
    "\n",
    "Realized Correlation uses weekly returns with the currency value in USD and percentile uses a 5y history. 6m realized volatility ratio uses weekly returns. Strike price is spot + FX / SPX vol ratio. Strike and Spot are in normal spot convention. Discount to SPX is FX Option premium / SPX price. Past performance is not indicative of future results. "
   ]
  },
  {
   "cell_type": "code",
   "execution_count": 35,
   "id": "signal-ground",
   "metadata": {},
   "outputs": [],
   "source": [
    "def calculate_screen(eq_ric, fx_crosses, start=RelativeDate('-5y').apply_rule(), end=RelativeDate('-1b').apply_rule()):\n",
    "    fxspot_data = Dataset('WMFXSPOT').get_data(start, end, bbid=fx_crosses)\n",
    "    fxspot_df = pd.pivot_table(fxspot_data, values='midPrice', index=['date'], columns=['bbid']).resample('W-FRI').last()\n",
    "    eq = Dataset('TREOD').get_data(start, end, ric=eq_ric).closePrice.resample('W-FRI').last()\n",
    "    eq_vol = last_value(volatility(eq, 24))\n",
    "    cors = pd.DataFrame({bbid: correlation(eq, 1/fxspot_df[bbid] if bbid[0] == 'U' else fxspot_df[bbid] , 52) for bbid in fx_crosses})\n",
    "    cur_cor = pd.Series(cors.tail(1).squeeze()*100, name='1y Realized Correlation (%)')\n",
    "    pct_cor = pd.Series({bbid: last_value(percentiles(cors[bbid])) for bbid in fx_crosses}, name='Corr %-ile')\n",
    "    vol_ = pd.DataFrame({bbid: volatility(fxspot_df[bbid], 24, Returns.LOGARITHMIC) for bbid in fx_crosses})\n",
    "    vol_cur = pd.Series(vol_.tail(1).squeeze() / eq_vol , name=f'6m Realized Vol Ratio (FX / {eq_ric})')\n",
    "    table = pd.concat([cur_cor, pct_cor, vol_cur ], axis=1)\n",
    "    \n",
    "    #price options\n",
    "    eqo = EqOption(option_type='Put', underlier=eq_ric, exchange='NYSE', strike_price='90%', expiration_date='3m', buy_sell='Buy', premium=0)\n",
    "    eqo.resolve()\n",
    "    notional = eqo.strike_price * eqo.multiplier\n",
    "    portfolio = Portfolio()\n",
    "    for cross in fx_crosses:\n",
    "        ratio = table.loc[cross][f'6m Realized Vol Ratio (FX / {eq_ric})']\n",
    "        if cross[0] != 'U':\n",
    "            cross = f'USD{cross[:3]}'\n",
    "        portfolio.append(FXOption(pair=cross, option_type='Call', expiration_date='3m', strike_price=f's+{ratio*10}%', buy_sell='Buy', \n",
    "                            notional_amount=notional/ratio))\n",
    "    portfolio.resolve()\n",
    "    port_df = portfolio.to_frame()\n",
    "    port_df['Cost in bps'] = (port_df['premium'] / port_df['notional_amount'])*1e4\n",
    "    port_df[f'Discount to {eq_ric} (%)'] =(abs(port_df['premium'])/eqo.price() - 1)*100\n",
    "    port_df['Spot'] = list(portfolio.calc(FXSpot).result())\n",
    "    port_df['pair'] = port_df['pair'].str.replace(' ', '')\n",
    "    port_df['pair_'] = g10\n",
    "    port_df = port_df.set_index('pair_')\n",
    "    port_df['Strike'] = [1 / port_df.loc[x]['strike_price'] if x != port_df.loc[x]['pair'] else port_df.loc[x]['strike_price'] for x in port_df.index]\n",
    "    result = table.join([port_df['Strike'], port_df['Spot'],port_df['Cost in bps'],port_df[f'Discount to {eq_ric} (%)']])\n",
    "    return result.sort_values(by=['1y Realized Correlation (%)', f'Discount to {eq_ric} (%)'], ascending=(False, True))"
   ]
  },
  {
   "cell_type": "code",
   "execution_count": 29,
   "id": "effective-validity",
   "metadata": {},
   "outputs": [
    {
     "data": {
      "text/html": [
       "<style  type=\"text/css\" >\n",
       "#T_2194e_row0_col0,#T_2194e_row3_col6{\n",
       "            background-color:  #023858;\n",
       "            color:  #f1f1f1;\n",
       "        }#T_2194e_row0_col6{\n",
       "            background-color:  #69a5cc;\n",
       "            color:  #000000;\n",
       "        }#T_2194e_row1_col0{\n",
       "            background-color:  #034871;\n",
       "            color:  #f1f1f1;\n",
       "        }#T_2194e_row1_col6{\n",
       "            background-color:  #b9c6e0;\n",
       "            color:  #000000;\n",
       "        }#T_2194e_row2_col0{\n",
       "            background-color:  #034973;\n",
       "            color:  #f1f1f1;\n",
       "        }#T_2194e_row2_col6{\n",
       "            background-color:  #1c7fb8;\n",
       "            color:  #000000;\n",
       "        }#T_2194e_row3_col0{\n",
       "            background-color:  #045382;\n",
       "            color:  #f1f1f1;\n",
       "        }#T_2194e_row4_col0{\n",
       "            background-color:  #056faf;\n",
       "            color:  #f1f1f1;\n",
       "        }#T_2194e_row4_col6{\n",
       "            background-color:  #dddbec;\n",
       "            color:  #000000;\n",
       "        }#T_2194e_row5_col0{\n",
       "            background-color:  #0570b0;\n",
       "            color:  #f1f1f1;\n",
       "        }#T_2194e_row5_col6{\n",
       "            background-color:  #d9d8ea;\n",
       "            color:  #000000;\n",
       "        }#T_2194e_row6_col0{\n",
       "            background-color:  #3f93c2;\n",
       "            color:  #000000;\n",
       "        }#T_2194e_row6_col6{\n",
       "            background-color:  #f4edf6;\n",
       "            color:  #000000;\n",
       "        }#T_2194e_row7_col0{\n",
       "            background-color:  #89b1d4;\n",
       "            color:  #000000;\n",
       "        }#T_2194e_row7_col6,#T_2194e_row8_col0{\n",
       "            background-color:  #fff7fb;\n",
       "            color:  #000000;\n",
       "        }#T_2194e_row8_col6{\n",
       "            background-color:  #5a9ec9;\n",
       "            color:  #000000;\n",
       "        }</style><table id=\"T_2194e_\" ><thead>    <tr>        <th class=\"blank level0\" ></th>        <th class=\"col_heading level0 col0\" >1y Realized Correlation (%)</th>        <th class=\"col_heading level0 col1\" >Corr %-ile</th>        <th class=\"col_heading level0 col2\" >6m Realized Vol Ratio (FX / .N225)</th>        <th class=\"col_heading level0 col3\" >Strike</th>        <th class=\"col_heading level0 col4\" >Spot</th>        <th class=\"col_heading level0 col5\" >Cost in bps</th>        <th class=\"col_heading level0 col6\" >Discount to .N225 (%)</th>    </tr></thead><tbody>\n",
       "                <tr>\n",
       "                        <th id=\"T_2194e_level0_row0\" class=\"row_heading level0 row0\" >AUDUSD</th>\n",
       "                        <td id=\"T_2194e_row0_col0\" class=\"data row0 col0\" >73.22</td>\n",
       "                        <td id=\"T_2194e_row0_col1\" class=\"data row0 col1\" >80.71</td>\n",
       "                        <td id=\"T_2194e_row0_col2\" class=\"data row0 col2\" >0.67</td>\n",
       "                        <td id=\"T_2194e_row0_col3\" class=\"data row0 col3\" >0.72</td>\n",
       "                        <td id=\"T_2194e_row0_col4\" class=\"data row0 col4\" >0.77</td>\n",
       "                        <td id=\"T_2194e_row0_col5\" class=\"data row0 col5\" >-34.22</td>\n",
       "                        <td id=\"T_2194e_row0_col6\" class=\"data row0 col6\" >-67.38</td>\n",
       "            </tr>\n",
       "            <tr>\n",
       "                        <th id=\"T_2194e_level0_row1\" class=\"row_heading level0 row1\" >USDNOK</th>\n",
       "                        <td id=\"T_2194e_row1_col0\" class=\"data row1 col0\" >69.65</td>\n",
       "                        <td id=\"T_2194e_row1_col1\" class=\"data row1 col1\" >82.62</td>\n",
       "                        <td id=\"T_2194e_row1_col2\" class=\"data row1 col2\" >0.94</td>\n",
       "                        <td id=\"T_2194e_row1_col3\" class=\"data row1 col3\" >9.31</td>\n",
       "                        <td id=\"T_2194e_row1_col4\" class=\"data row1 col4\" >8.51</td>\n",
       "                        <td id=\"T_2194e_row1_col5\" class=\"data row1 col5\" >-36.53</td>\n",
       "                        <td id=\"T_2194e_row1_col6\" class=\"data row1 col6\" >-75.05</td>\n",
       "            </tr>\n",
       "            <tr>\n",
       "                        <th id=\"T_2194e_level0_row2\" class=\"row_heading level0 row2\" >USDCAD</th>\n",
       "                        <td id=\"T_2194e_row2_col0\" class=\"data row2 col0\" >69.50</td>\n",
       "                        <td id=\"T_2194e_row2_col1\" class=\"data row2 col1\" >83.57</td>\n",
       "                        <td id=\"T_2194e_row2_col2\" class=\"data row2 col2\" >0.41</td>\n",
       "                        <td id=\"T_2194e_row2_col3\" class=\"data row2 col3\" >1.33</td>\n",
       "                        <td id=\"T_2194e_row2_col4\" class=\"data row2 col4\" >1.28</td>\n",
       "                        <td id=\"T_2194e_row2_col5\" class=\"data row2 col5\" >-24.64</td>\n",
       "                        <td id=\"T_2194e_row2_col6\" class=\"data row2 col6\" >-60.91</td>\n",
       "            </tr>\n",
       "            <tr>\n",
       "                        <th id=\"T_2194e_level0_row3\" class=\"row_heading level0 row3\" >NZDUSD</th>\n",
       "                        <td id=\"T_2194e_row3_col0\" class=\"data row3 col0\" >67.38</td>\n",
       "                        <td id=\"T_2194e_row3_col1\" class=\"data row3 col1\" >90.71</td>\n",
       "                        <td id=\"T_2194e_row3_col2\" class=\"data row3 col2\" >0.57</td>\n",
       "                        <td id=\"T_2194e_row3_col3\" class=\"data row3 col3\" >0.68</td>\n",
       "                        <td id=\"T_2194e_row3_col4\" class=\"data row3 col4\" >0.72</td>\n",
       "                        <td id=\"T_2194e_row3_col5\" class=\"data row3 col5\" >-44.89</td>\n",
       "                        <td id=\"T_2194e_row3_col6\" class=\"data row3 col6\" >-49.14</td>\n",
       "            </tr>\n",
       "            <tr>\n",
       "                        <th id=\"T_2194e_level0_row4\" class=\"row_heading level0 row4\" >GBPUSD</th>\n",
       "                        <td id=\"T_2194e_row4_col0\" class=\"data row4 col0\" >58.75</td>\n",
       "                        <td id=\"T_2194e_row4_col1\" class=\"data row4 col1\" >87.86</td>\n",
       "                        <td id=\"T_2194e_row4_col2\" class=\"data row4 col2\" >0.58</td>\n",
       "                        <td id=\"T_2194e_row4_col3\" class=\"data row4 col3\" >1.30</td>\n",
       "                        <td id=\"T_2194e_row4_col4\" class=\"data row4 col4\" >1.37</td>\n",
       "                        <td id=\"T_2194e_row4_col5\" class=\"data row4 col5\" >-18.03</td>\n",
       "                        <td id=\"T_2194e_row4_col6\" class=\"data row4 col6\" >-79.88</td>\n",
       "            </tr>\n",
       "            <tr>\n",
       "                        <th id=\"T_2194e_level0_row5\" class=\"row_heading level0 row5\" >USDSEK</th>\n",
       "                        <td id=\"T_2194e_row5_col0\" class=\"data row5 col0\" >58.53</td>\n",
       "                        <td id=\"T_2194e_row5_col1\" class=\"data row5 col1\" >78.81</td>\n",
       "                        <td id=\"T_2194e_row5_col2\" class=\"data row5 col2\" >0.69</td>\n",
       "                        <td id=\"T_2194e_row5_col3\" class=\"data row5 col3\" >8.97</td>\n",
       "                        <td id=\"T_2194e_row5_col4\" class=\"data row5 col4\" >8.39</td>\n",
       "                        <td id=\"T_2194e_row5_col5\" class=\"data row5 col5\" >-22.40</td>\n",
       "                        <td id=\"T_2194e_row5_col6\" class=\"data row5 col6\" >-79.09</td>\n",
       "            </tr>\n",
       "            <tr>\n",
       "                        <th id=\"T_2194e_level0_row6\" class=\"row_heading level0 row6\" >EURUSD</th>\n",
       "                        <td id=\"T_2194e_row6_col0\" class=\"data row6 col0\" >50.30</td>\n",
       "                        <td id=\"T_2194e_row6_col1\" class=\"data row6 col1\" >86.43</td>\n",
       "                        <td id=\"T_2194e_row6_col2\" class=\"data row6 col2\" >0.45</td>\n",
       "                        <td id=\"T_2194e_row6_col3\" class=\"data row6 col3\" >1.15</td>\n",
       "                        <td id=\"T_2194e_row6_col4\" class=\"data row6 col4\" >1.20</td>\n",
       "                        <td id=\"T_2194e_row6_col5\" class=\"data row6 col5\" >-10.95</td>\n",
       "                        <td id=\"T_2194e_row6_col6\" class=\"data row6 col6\" >-84.34</td>\n",
       "            </tr>\n",
       "            <tr>\n",
       "                        <th id=\"T_2194e_level0_row7\" class=\"row_heading level0 row7\" >USDCHF</th>\n",
       "                        <td id=\"T_2194e_row7_col0\" class=\"data row7 col0\" >41.07</td>\n",
       "                        <td id=\"T_2194e_row7_col1\" class=\"data row7 col1\" >87.38</td>\n",
       "                        <td id=\"T_2194e_row7_col2\" class=\"data row7 col2\" >0.46</td>\n",
       "                        <td id=\"T_2194e_row7_col3\" class=\"data row7 col3\" >0.94</td>\n",
       "                        <td id=\"T_2194e_row7_col4\" class=\"data row7 col4\" >0.90</td>\n",
       "                        <td id=\"T_2194e_row7_col5\" class=\"data row7 col5\" >-9.08</td>\n",
       "                        <td id=\"T_2194e_row7_col6\" class=\"data row7 col6\" >-87.23</td>\n",
       "            </tr>\n",
       "            <tr>\n",
       "                        <th id=\"T_2194e_level0_row8\" class=\"row_heading level0 row8\" >USDJPY</th>\n",
       "                        <td id=\"T_2194e_row8_col0\" class=\"data row8 col0\" >15.11</td>\n",
       "                        <td id=\"T_2194e_row8_col1\" class=\"data row8 col1\" >99.76</td>\n",
       "                        <td id=\"T_2194e_row8_col2\" class=\"data row8 col2\" >0.33</td>\n",
       "                        <td id=\"T_2194e_row8_col3\" class=\"data row8 col3\" >108.65</td>\n",
       "                        <td id=\"T_2194e_row8_col4\" class=\"data row8 col4\" >105.18</td>\n",
       "                        <td id=\"T_2194e_row8_col5\" class=\"data row8 col5\" >-17.39</td>\n",
       "                        <td id=\"T_2194e_row8_col6\" class=\"data row8 col6\" >-66.10</td>\n",
       "            </tr>\n",
       "    </tbody></table>"
      ],
      "text/plain": [
       "<pandas.io.formats.style.Styler at 0x1a9b08966c8>"
      ]
     },
     "execution_count": 29,
     "metadata": {},
     "output_type": "execute_result"
    }
   ],
   "source": [
    "start = RelativeDate('-5y').apply_rule()\n",
    "end = RelativeDate('-1b').apply_rule()\n",
    "g10 = ['USDJPY', 'EURUSD', 'AUDUSD', 'GBPUSD', 'USDCAD', 'USDNOK', 'NZDUSD', 'USDSEK', 'USDCHF']\n",
    "\n",
    "#example equity index rics '.FTSE','.N225','.SPX' or '.STOXX50E'\n",
    "eq_ric = '.N225'\n",
    "table = calculate_screen(eq_ric='.N225', fx_crosses=g10)\n",
    "table.style.background_gradient(\n",
    "        subset=['1y Realized Correlation (%)', f'Discount to {eq_ric} (%)'])"
   ]
  },
  {
   "cell_type": "code",
   "execution_count": 34,
   "id": "labeled-language",
   "metadata": {},
   "outputs": [
    {
     "data": {
      "text/plain": [
       "<matplotlib.legend.Legend at 0x1a9b10e7348>"
      ]
     },
     "execution_count": 34,
     "metadata": {},
     "output_type": "execute_result"
    },
    {
     "data": {
      "image/png": "[encoded data removed]",
      "text/plain": [
       "<Figure size 432x288 with 1 Axes>"
      ]
     },
     "metadata": {
      "needs_background": "light"
     },
     "output_type": "display_data"
    }
   ],
   "source": [
    "sns.scatterplot(x=table['1y Realized Correlation (%)'], y=table[f'Discount to {eq_ric} (%)'], hue=table.index, s=60)\n",
    "plt.legend(bbox_to_anchor=(1.05, 1), loc=2, borderaxespad=0.)"
   ]
  }
 ],
 "metadata": {
  "kernelspec": {
   "display_name": "Python 3",
   "language": "python",
   "name": "python3"
  },
  "language_info": {
   "codemirror_mode": {
    "name": "ipython",
    "version": 3
   },
   "file_extension": ".py",
   "mimetype": "text/x-python",
   "name": "python",
   "nbconvert_exporter": "python",
   "pygments_lexer": "ipython3",
   "version": "3.7.4"
  }
 },
 "nbformat": 4,
 "nbformat_minor": 5
}