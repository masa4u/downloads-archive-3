{
 "cells": [
  {
   "cell_type": "code",
   "execution_count": null,
   "metadata": {},
   "outputs": [],
   "source": [
    "from gs_quant.instrument import IRSwaption, IRSwap\n",
    "from gs_quant.risk import IRDeltaParallel, IRDeltaParallelLocalCcy\n",
    "from gs_quant.session import Environment, GsSession"
   ]
  },
  {
   "cell_type": "code",
   "execution_count": null,
   "metadata": {
    "pycharm": {
     "name": "#%%\n"
    }
   },
   "outputs": [],
   "source": [
    "# external users should substitute their client id and secret; please skip this step if using internal jupyterhub\n",
    "GsSession.use(client_id=None, client_secret=None, scopes=('run_analytics',))"
   ]
  },
  {
   "cell_type": "markdown",
   "metadata": {},
   "source": [
    "### Solve for Delta\n",
    "Size swap to match swaption delta"
   ]
  },
  {
   "cell_type": "code",
   "execution_count": null,
   "metadata": {
    "pycharm": {
     "name": "#%%\n"
    }
   },
   "outputs": [],
   "source": [
    "# create 1y5y payer swaption and calculate delta\n",
    "payer_swaption = IRSwaption('Pay', '5y', 'EUR', expiration_date='1y', buy_sell='Sell')\n",
    "swaption_delta = payer_swaption.calc((IRDeltaParallel, IRDeltaParallelLocalCcy))"
   ]
  },
  {
   "cell_type": "code",
   "execution_count": null,
   "metadata": {
    "pycharm": {
     "name": "#%%\n"
    }
   },
   "outputs": [],
   "source": [
    "# solve for $ delta as IRDeltaParallel is in USD\n",
    "hedge1 = IRSwap('Receive', '5y', 'USD', fixed_rate='atm', notional_amount='${}/bp'.format(swaption_delta[IRDeltaParallel]))\n",
    "swap_delta = hedge1.calc(IRDeltaParallel)\n",
    "\n",
    "# check that delta is approximately equal\n",
    "swaption_delta[IRDeltaParallel] - swap_delta"
   ]
  },
  {
   "cell_type": "code",
   "execution_count": null,
   "metadata": {
    "pycharm": {
     "name": "#%%\n"
    }
   },
   "outputs": [],
   "source": [
    "# solve for local ccy delta\n",
    "hedge2 = IRSwap('Receive', '5y', 'EUR', fixed_rate='atm', notional_amount='{}/bp'.format(swaption_delta[IRDeltaParallelLocalCcy]))\n",
    "swap_delta_local = hedge2.calc(IRDeltaParallelLocalCcy)\n",
    "\n",
    "#check that delta is approximately equal\n",
    "swaption_delta[IRDeltaParallelLocalCcy] - swap_delta_local"
   ]
  }
 ],
 "metadata": {
  "kernelspec": {
   "display_name": "Python 3",
   "language": "python",
   "name": "python3"
  },
  "language_info": {
   "codemirror_mode": {
    "name": "ipython",
    "version": 3
   },
   "file_extension": ".py",
   "mimetype": "text/x-python",
   "name": "python",
   "nbconvert_exporter": "python",
   "pygments_lexer": "ipython3",
   "version": "3.7.2"
  }
 },
 "nbformat": 4,
 "nbformat_minor": 1
}
