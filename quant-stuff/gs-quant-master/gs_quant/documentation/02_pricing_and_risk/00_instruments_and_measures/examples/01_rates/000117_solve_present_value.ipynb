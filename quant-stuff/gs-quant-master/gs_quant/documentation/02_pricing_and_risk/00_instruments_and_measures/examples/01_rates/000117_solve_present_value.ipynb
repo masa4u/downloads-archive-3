{
 "cells": [
  {
   "cell_type": "code",
   "execution_count": null,
   "metadata": {},
   "outputs": [],
   "source": [
    "from gs_quant.instrument import IRSwaption\n",
    "from gs_quant.session import Environment, GsSession"
   ]
  },
  {
   "cell_type": "code",
   "execution_count": null,
   "metadata": {},
   "outputs": [],
   "source": [
    "# external users should substitute their client id and secret; please skip this step if using internal jupyterhub\n",
    "GsSession.use(client_id=None, client_secret=None, scopes=('run_analytics',)) "
   ]
  },
  {
   "cell_type": "markdown",
   "metadata": {},
   "source": [
    "### Solve for Present Value\n",
    "Using 1x2 receiver structure - solve for strike on second leg such that pv of leg2 = pv of leg1"
   ]
  },
  {
   "cell_type": "code",
   "execution_count": null,
   "metadata": {
    "pycharm": {
     "name": "#%%# buy 1x atmf payer, sell 2x atmf+X payer solving for 0 cost strike\n"
    }
   },
   "outputs": [],
   "source": [
    "buy_swaption = IRSwaption('Receive', '30y', 'USD', notional_amount=10e6, strike='atmf', expiration_date='3m', buy_sell='Buy')\n",
    "sell_swaption = IRSwaption('Receive', '30y', 'USD', notional_amount=20e6, strike='{}/pv'.format(buy_swaption.price()), expiration_date='3m', buy_sell='Sell')\n",
    "\n",
    "# confirm it's 0 cost\n",
    "buy_swaption.price() + sell_swaption.price()"
   ]
  }
 ],
 "metadata": {
  "kernelspec": {
   "display_name": "Python 3",
   "language": "python",
   "name": "python3"
  },
  "language_info": {
   "codemirror_mode": {
    "name": "ipython",
    "version": 3
   },
   "file_extension": ".py",
   "mimetype": "text/x-python",
   "name": "python",
   "nbconvert_exporter": "python",
   "pygments_lexer": "ipython3",
   "version": "3.7.2"
  }
 },
 "nbformat": 4,
 "nbformat_minor": 1
}
