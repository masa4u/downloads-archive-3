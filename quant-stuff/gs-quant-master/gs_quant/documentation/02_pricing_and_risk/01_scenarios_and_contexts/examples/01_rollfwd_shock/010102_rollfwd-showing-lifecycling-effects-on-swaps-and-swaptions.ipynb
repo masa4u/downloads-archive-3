{
 "cells": [
  {
   "cell_type": "code",
   "execution_count": null,
   "metadata": {},
   "outputs": [],
   "source": [
    "from gs_quant.session import GsSession, Environment\n",
    "from gs_quant.risk import RollFwd\n",
    "from gs_quant.markets.portfolio import Portfolio\n",
    "from gs_quant.instrument import IRSwap, IRSwaption\n",
    "from gs_quant.markets import PricingContext\n",
    "import matplotlib.pyplot as plt\n",
    "import pandas as pd\n",
    "import numpy as np"
   ]
  },
  {
   "cell_type": "code",
   "execution_count": null,
   "metadata": {},
   "outputs": [],
   "source": [
    "# external users should substitute their client id and secret; please skip this step if using internal jupyterhub\n",
    "GsSession.use(Environment.PROD, client_id=None, client_secret=None, scopes=('run_analytics',))"
   ]
  },
  {
   "cell_type": "code",
   "execution_count": null,
   "metadata": {},
   "outputs": [],
   "source": [
    "# create a swap which has a 1m floating frequency\n",
    "swap = IRSwap('Pay', '10y', 'EUR', fixed_rate='ATM-5', floating_rate_frequency='1m', name='EUR10y')\n",
    "\n",
    "# resolve the trade as of today to fix the dates and strike\n",
    "swap.resolve()\n",
    "\n",
    "# roll daily for 66 business days assuming both forward curve is realised and spot curve is realised\n",
    "fwd_results = []\n",
    "spot_results = []\n",
    "r = range(0, 66, 6)\n",
    "# by wrapping all the scenarios into one PricingContext we package all the requests into one call to GS\n",
    "with PricingContext():\n",
    "    for bus_days in r:\n",
    "        with PricingContext(is_async=True), RollFwd(date=f'{bus_days}b', holiday_calendar='LDN', realise_fwd=True):\n",
    "            fwd_results.append(swap.price())\n",
    "        with PricingContext(is_async=True), RollFwd(date=f'{bus_days}b', holiday_calendar='LDN', realise_fwd=False):\n",
    "            spot_results.append(swap.price())"
   ]
  },
  {
   "cell_type": "code",
   "execution_count": null,
   "metadata": {},
   "outputs": [],
   "source": [
    "pd.Series([r.result() for r in fwd_results], index=r, dtype=np.dtype(float)).plot(figsize=(10, 6), \n",
    "                                                title='Swap Carry', \n",
    "                                                label='{} fwd curve carry'.format(swap.name))\n",
    "pd.Series([r.result() for r in spot_results], index=r, dtype=np.dtype(float)).plot(label='{} spot curve carry'.format(swap.name))\n",
    "\n",
    "plt.xlabel('Business Days from Pricing Date')\n",
    "plt.ylabel('PV')\n",
    "plt.legend()\n",
    "# note that the steps represent the move in MTM as the cashflows are paid.  The libor fixing is implied from the fwd"
   ]
  },
  {
   "cell_type": "code",
   "execution_count": null,
   "metadata": {},
   "outputs": [],
   "source": [
    "itm_swaption = IRSwaption('Receive', '10y', 'EUR', strike='ATM+50', expiration_date='1m', name='ITM swaption')\n",
    "otm_swaption = IRSwaption('Receive', '10y', 'EUR', strike='ATM-50', expiration_date='1m', name='OTM swaption')\n",
    "port = Portfolio([itm_swaption, otm_swaption])\n",
    "port.resolve()\n",
    "\n",
    "# roll daily for 44 business days assuming both forward curve is realised and spot curve is realised\n",
    "fwd_results = []\n",
    "spot_results = []\n",
    "r = range(0, 44, 4)\n",
    "# by wrapping all the scenarios into one PricingContext we package all the requests into one call to GS\n",
    "with PricingContext():\n",
    "    for bus_days in r:\n",
    "        with PricingContext(is_async=True), RollFwd(date=f'{bus_days}b', holiday_calendar='LDN', realise_fwd=True):\n",
    "            fwd_results.append(port.price())"
   ]
  },
  {
   "cell_type": "code",
   "execution_count": null,
   "metadata": {},
   "outputs": [],
   "source": [
    "pd.Series([rs['ITM swaption'] for rs in fwd_results], index=r, dtype=np.dtype(float)).plot(figsize=(10, 6), \n",
    "                                             title='Swaption Carry', \n",
    "                                             label='{} carry'.format(itm_swaption.name))\n",
    "pd.Series([rs['ITM swaption'] for rs in fwd_results], index=r, dtype=np.dtype(float)).plot(label='{} carry'.format(otm_swaption.name), secondary_y=True)\n",
    "\n",
    "plt.xlabel('Business Days from Pricing Date')\n",
    "plt.ylabel('PV')\n",
    "plt.legend()\n",
    "# note that the OTM swaption prices at 0 post expiry whereas the ITM swaption prices at the value of the swap."
   ]
  },
  {
   "cell_type": "code",
   "execution_count": null,
   "metadata": {},
   "outputs": [],
   "source": []
  }
 ],
 "metadata": {
  "kernelspec": {
   "display_name": "Python 3",
   "language": "python",
   "name": "python3"
  },
  "language_info": {
   "codemirror_mode": {
    "name": "ipython",
    "version": 3
   },
   "file_extension": ".py",
   "mimetype": "text/x-python",
   "name": "python",
   "nbconvert_exporter": "python",
   "pygments_lexer": "ipython3",
   "version": "3.7.4"
  },
  "pycharm": {
   "stem_cell": {
    "cell_type": "raw",
    "metadata": {
     "collapsed": false
    },
    "source": []
   }
  }
 },
 "nbformat": 4,
 "nbformat_minor": 4
}
