{
 "cells": [
  {
   "cell_type": "code",
   "source": [
    "# The gs_quant risk package contains Scenarios, which allow the user to perform scenario analysis on a set of trades \n",
    "# 'MarketDataShockBasedScenario' is the most flexible scenario, which allows users to construct bespoke market data \n",
    "# scenarios\n",
    "from gs_quant.risk import MarketDataShockBasedScenario\n",
    "MarketDataShockBasedScenario?"
   ],
   "metadata": {
    "collapsed": false,
    "pycharm": {
     "name": "#%%\n",
     "is_executing": false
    }
   },
   "execution_count": 1,
   "outputs": []
  },
  {
   "cell_type": "code",
   "execution_count": 3,
   "outputs": [],
   "source": [
    "# MarketDataShockBasedScenarios has one property: 'shocks', a mapping of MarketDataPattern to MarketDataShock\n",
    "MarketDataShockBasedScenario.shocks"
   ],
   "metadata": {
    "collapsed": false,
    "pycharm": {
     "name": "#%%\n",
     "is_executing": false
    }
   }
  },
  {
   "cell_type": "code",
   "source": [
    "# The MarketDataPattern defines a collection of observable Market Data. Examples for the MarketDataPattern class are\n",
    "# in gs_quant/examples/01_pricing_and_risk/01_market_objects."
   ],
   "metadata": {
    "collapsed": false,
    "pycharm": {
     "name": "#%%\n"
    }
   },
   "execution_count": null,
   "outputs": []
  }
 ],
 "metadata": {
  "language_info": {
   "codemirror_mode": {
    "name": "ipython",
    "version": 2
   },
   "file_extension": ".py",
   "mimetype": "text/x-python",
   "name": "python",
   "nbconvert_exporter": "python",
   "pygments_lexer": "ipython2",
   "version": "2.7.6"
  },
  "kernelspec": {
   "name": "python3",
   "language": "python",
   "display_name": "Python 3"
  },
  "pycharm": {
   "stem_cell": {
    "cell_type": "raw",
    "source": [],
    "metadata": {
     "collapsed": false
    }
   }
  }
 },
 "nbformat": 4,
 "nbformat_minor": 0
}