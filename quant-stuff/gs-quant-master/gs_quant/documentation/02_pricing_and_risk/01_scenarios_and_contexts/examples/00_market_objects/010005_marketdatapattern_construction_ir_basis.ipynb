{
 "cells": [
  {
   "cell_type": "code",
   "execution_count": null,
   "metadata": {
    "collapsed": true,
    "jupyter": {
     "outputs_hidden": true
    }
   },
   "outputs": [],
   "source": [
    "# The MarketDataPattern class allows the user to select a collection of observable market data\n",
    "# MarketDataPattern arguments include: mkt_type, mkt_asset, mkt_class, mkt_point and mkt_quoting_style\n",
    "from gs_quant.risk import MarketDataPattern"
   ]
  },
  {
   "cell_type": "code",
   "execution_count": null,
   "metadata": {
    "collapsed": false,
    "jupyter": {
     "outputs_hidden": false
    },
    "pycharm": {
     "name": "#%%\n"
    }
   },
   "outputs": [],
   "source": [
    "# A MarketDataPattern defined with 'IR Basis' mkt_type contains market data for rates spreads such as tenor basis,\n",
    "# funding/libor basis, etc.\n",
    "ir_basis = MarketDataPattern(mkt_type='IR Basis')"
   ]
  },
  {
   "cell_type": "code",
   "execution_count": null,
   "metadata": {
    "collapsed": false,
    "jupyter": {
     "outputs_hidden": false
    },
    "pycharm": {
     "name": "#%%\n"
    }
   },
   "outputs": [],
   "source": [
    "# The collection of 'IR Basis' market data can be further constrained by setting the 'mkt_asset'\n",
    "# For data with mkt_type 'IR Basis', the mkt_asset is the basis curve, represented by two currency/tenor pairs\n",
    "ir_basis_usd_ois1m = MarketDataPattern(mkt_type='IR Basis', mkt_asset='USD OIS/USD-1M')\n",
    "ir_basis_eur_3m6m = MarketDataPattern('IR Basis', 'EUR-3M/EUR-6M')\n",
    "ir_basis_gbp_3m6m = MarketDataPattern('IR Basis', 'GBP-3M/GBP-6M')"
   ]
  }
 ],
 "metadata": {
  "kernelspec": {
   "display_name": "Python 3",
   "language": "python",
   "name": "python3"
  },
  "language_info": {
   "codemirror_mode": {
    "name": "ipython",
    "version": 3
   },
   "file_extension": ".py",
   "mimetype": "text/x-python",
   "name": "python",
   "nbconvert_exporter": "python",
   "pygments_lexer": "ipython3",
   "version": "3.7.2"
  }
 },
 "nbformat": 4,
 "nbformat_minor": 4
}