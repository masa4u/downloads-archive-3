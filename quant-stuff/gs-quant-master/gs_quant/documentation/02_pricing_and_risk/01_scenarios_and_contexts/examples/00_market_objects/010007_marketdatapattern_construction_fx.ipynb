{
 "cells": [
  {
   "cell_type": "code",
   "execution_count": null,
   "metadata": {
    "collapsed": false,
    "jupyter": {
     "outputs_hidden": false
    },
    "pycharm": {
     "name": "#%%\n"
    }
   },
   "outputs": [],
   "source": [
    "# The MarketDataPattern class allows the user to select a collection of observable market data\n",
    "# MarketDataPattern arguments include: mkt_type, mkt_asset, mkt_class, mkt_point and mkt_quoting_style\n",
    "from gs_quant.risk import MarketDataPattern"
   ]
  },
  {
   "cell_type": "code",
   "execution_count": null,
   "metadata": {
    "collapsed": false,
    "jupyter": {
     "outputs_hidden": false
    },
    "pycharm": {
     "name": "#%%\n"
    }
   },
   "outputs": [],
   "source": [
    "# A MarketDataPattern defined with 'FX' mkt_type contains FX Spot rate data\n",
    "fx = MarketDataPattern(mkt_type='FX')"
   ]
  },
  {
   "cell_type": "code",
   "execution_count": null,
   "metadata": {
    "collapsed": false,
    "jupyter": {
     "outputs_hidden": false
    },
    "pycharm": {
     "name": "#%%\n"
    }
   },
   "outputs": [],
   "source": [
    "# The collection of 'FX' market data can be further constrained by setting the 'mkt_asset'\n",
    "# For data with mkt_type 'FX', the mkt_asset is a cross against USD\n",
    "fx_eur = MarketDataPattern(mkt_type='FX', mkt_asset='USD/EUR')\n",
    "fx_gbp = MarketDataPattern('FX', 'USD/GBP')\n",
    "fx_chf = MarketDataPattern('FX', 'CHF/USD')"
   ]
  }
 ],
 "metadata": {
  "kernelspec": {
   "display_name": "Python 3",
   "language": "python",
   "name": "python3"
  },
  "language_info": {
   "codemirror_mode": {
    "name": "ipython",
    "version": 3
   },
   "file_extension": ".py",
   "mimetype": "text/x-python",
   "name": "python",
   "nbconvert_exporter": "python",
   "pygments_lexer": "ipython3",
   "version": "3.7.2"
  }
 },
 "nbformat": 4,
 "nbformat_minor": 4
}