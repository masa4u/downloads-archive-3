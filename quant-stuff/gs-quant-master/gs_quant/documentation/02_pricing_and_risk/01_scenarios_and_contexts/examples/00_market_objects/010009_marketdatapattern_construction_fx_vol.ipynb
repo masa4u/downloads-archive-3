{
 "cells": [
  {
   "cell_type": "code",
   "execution_count": null,
   "metadata": {
    "collapsed": true,
    "jupyter": {
     "outputs_hidden": true
    }
   },
   "outputs": [],
   "source": [
    "# The MarketDataPattern class allows the user to select a collection of observable market data\n",
    "# MarketDataPattern arguments include: mkt_type, mkt_asset, mkt_class, mkt_point and mkt_quoting_style\n",
    "from gs_quant.risk import MarketDataPattern"
   ]
  },
  {
   "cell_type": "code",
   "execution_count": null,
   "metadata": {
    "collapsed": false,
    "jupyter": {
     "outputs_hidden": false
    },
    "pycharm": {
     "name": "#%%\n"
    }
   },
   "outputs": [],
   "source": [
    "# A MarketDataPattern defined with 'FX Vol' mkt_type contains market data related to the implied volatility for\n",
    "# FX instruments\n",
    "fx_vol = MarketDataPattern(mkt_type='FX Vol')"
   ]
  },
  {
   "cell_type": "code",
   "execution_count": null,
   "metadata": {
    "collapsed": false,
    "jupyter": {
     "outputs_hidden": false
    },
    "pycharm": {
     "name": "#%%\n"
    }
   },
   "outputs": [],
   "source": [
    "# The collection of 'FX Vol' market data can be further constrained by setting the'mkt_asset'\n",
    "# For data with mkt_type 'FX Vol', the mkt_asset is a cross\n",
    "fx_vol_gbp_eur = MarketDataPattern(mkt_type='FX Vol', mkt_asset='GBP/EUR', mkt_class='ATM Vol')\n",
    "fx_vol_dkk_usd = MarketDataPattern('FX Vol', 'DKK/USD')\n",
    "fx_vol_jpy_aud = MarketDataPattern('FX Vol', 'JPY/AUD')"
   ]
  }
 ],
 "metadata": {
  "kernelspec": {
   "display_name": "Python 3",
   "language": "python",
   "name": "python3"
  },
  "language_info": {
   "codemirror_mode": {
    "name": "ipython",
    "version": 3
   },
   "file_extension": ".py",
   "mimetype": "text/x-python",
   "name": "python",
   "nbconvert_exporter": "python",
   "pygments_lexer": "ipython3",
   "version": "3.7.2"
  }
 },
 "nbformat": 4,
 "nbformat_minor": 4
}