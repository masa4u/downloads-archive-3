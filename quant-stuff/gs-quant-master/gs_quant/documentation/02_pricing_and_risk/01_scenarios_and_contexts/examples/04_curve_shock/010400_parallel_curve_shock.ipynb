{
 "cells": [
  {
   "cell_type": "code",
   "execution_count": null,
   "metadata": {
    "pycharm": {
     "is_executing": false
    }
   },
   "outputs": [],
   "source": [
    "from gs_quant.session import Environment, GsSession\n",
    "from gs_quant.instrument import IRSwaption\n",
    "from gs_quant.risk import CurveScenario, MarketDataPattern\n",
    "from gs_quant.markets import MarketDataCoordinate\n",
    "import matplotlib.pyplot as plt\n",
    "import pandas as pd"
   ]
  },
  {
   "cell_type": "code",
   "execution_count": null,
   "metadata": {},
   "outputs": [],
   "source": [
    "# external users should substitute their client id and secret; please skip this step if using internal jupyterhub\n",
    "GsSession.use(Environment.PROD, client_id=None, client_secret=None, scopes=('run_analytics',))"
   ]
  },
  {
   "cell_type": "code",
   "execution_count": null,
   "metadata": {
    "pycharm": {
     "name": "#%%\n"
    }
   },
   "outputs": [],
   "source": [
    "swaption = IRSwaption('Receive', '5y', 'USD', expiration_date='13m', strike='atm')\n",
    "swaption.resolve()"
   ]
  },
  {
   "cell_type": "code",
   "execution_count": null,
   "metadata": {},
   "outputs": [],
   "source": [
    "original_price = swaption.price()\n",
    "market_data = swaption.market().market_data\n",
    "print('Base price:     {:,.2f}'.format(original_price))"
   ]
  },
  {
   "cell_type": "code",
   "execution_count": null,
   "metadata": {
    "pycharm": {
     "name": "#%%\n"
    },
    "scrolled": true
   },
   "outputs": [],
   "source": [
    "# Price the swaption under a curve move of 10bp parallel shift\n",
    "parallel_shift_scenario = CurveScenario(market_data_pattern=MarketDataPattern('IR', 'USD'), parallel_shift=10)\n",
    "\n",
    "with parallel_shift_scenario:\n",
    "    swaption_parallel_shift = swaption.price()\n",
    "    market_data_parallel_shift = swaption.market().market_data\n",
    "print('Price under parallel shift: {:,.2f}'.format(swaption_parallel_shift))"
   ]
  },
  {
   "cell_type": "code",
   "execution_count": null,
   "metadata": {},
   "outputs": [],
   "source": [
    "# Compare swap rate market data coordinates before and after curve scenario shock\n",
    "coord = MarketDataCoordinate(mkt_type=\"IR\",mkt_asset=\"USD\")\n",
    "market_data_df = pd.DataFrame([{mkt_data.coordinate: mkt_data.value * 1e4 for mkt_data in market_data if (mkt_data.coordinate.mkt_type==\"IR\" and mkt_data.coordinate.mkt_class==\"SWAP\")},\n",
    "                               {mkt_data.coordinate: mkt_data.value * 1e4 for mkt_data in market_data_parallel_shift if (mkt_data.coordinate.mkt_type==\"IR\" and mkt_data.coordinate.mkt_class==\"SWAP\")}],\n",
    "                              index=['Values', 'Shocked values']).transpose()\n",
    "market_data_df"
   ]
  },
  {
   "cell_type": "code",
   "execution_count": null,
   "metadata": {},
   "outputs": [],
   "source": [
    "# Plotting swap rate market data before and after curve scenario shock \n",
    "swap_curve = pd.DataFrame.from_dict({int(''.join(list(filter(str.isdigit, str(v))))): market_data_df.loc[v]\n",
    "                                    for v in market_data_df.index}, orient='index')\n",
    "\n",
    "swap_curve['Shock'] = swap_curve['Shocked values'] - swap_curve['Values']\n",
    "swap_curve.plot(figsize=(12, 8), title='USD Swap Curve Before and After Parallel Shock')\n",
    "plt.xlabel('Tenor (years)')\n",
    "plt.ylabel('bp')"
   ]
  }
 ],
 "metadata": {
  "kernelspec": {
   "display_name": "Python 3",
   "language": "python",
   "name": "python3"
  },
  "language_info": {
   "codemirror_mode": {
    "name": "ipython",
    "version": 3
   },
   "file_extension": ".py",
   "mimetype": "text/x-python",
   "name": "python",
   "nbconvert_exporter": "python",
   "pygments_lexer": "ipython3",
   "version": "3.7.4"
  },
  "pycharm": {
   "stem_cell": {
    "cell_type": "raw",
    "metadata": {
     "collapsed": false
    },
    "source": []
   }
  }
 },
 "nbformat": 4,
 "nbformat_minor": 1
}
